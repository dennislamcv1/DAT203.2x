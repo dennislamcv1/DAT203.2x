{
 "cells": [
  {
   "cell_type": "code",
   "execution_count": 1,
   "metadata": {},
   "outputs": [],
   "source": [
    "import numpy as np\n",
    "import pandas as pd\n",
    "import matplotlib.pyplot as plt\n",
    "import seaborn as sns\n",
    "import sklearn\n",
    "\n",
    "import xgboost as xgb\n",
    "from xgboost import XGBClassifier, XGBRegressor\n",
    "from xgboost import to_graphviz, plot_importance\n",
    "\n",
    "from sklearn.experimental import enable_hist_gradient_boosting\n",
    "from sklearn.ensemble import _hist_gradient_boosting\n",
    "from sklearn.ensemble import HistGradientBoostingRegressor, HistGradientBoostingClassifier\n",
    "%matplotlib inline\n",
    "\n",
    "from sklearn.model_selection import cross_val_score, train_test_split, GridSearchCV, RandomizedSearchCV\n",
    "from sklearn.preprocessing import LabelEncoder, StandardScaler, MinMaxScaler\n",
    "from sklearn.metrics import confusion_matrix, classification_report, mean_absolute_error, mean_squared_error,r2_score\n",
    "from sklearn.metrics import plot_confusion_matrix, plot_precision_recall_curve, plot_roc_curve\n",
    "\n",
    "pd.options.display.max_columns= None\n",
    "#pd.options.display.max_rows = None"
   ]
  },
  {
   "cell_type": "markdown",
   "metadata": {},
   "source": [
    "### Classification with Boosted Tree Models"
   ]
  },
  {
   "cell_type": "code",
   "execution_count": 2,
   "metadata": {},
   "outputs": [],
   "source": [
    "df = pd.read_csv(\"train2.csv\")"
   ]
  },
  {
   "cell_type": "code",
   "execution_count": 3,
   "metadata": {},
   "outputs": [
    {
     "data": {
      "text/html": [
       "<div>\n",
       "<style scoped>\n",
       "    .dataframe tbody tr th:only-of-type {\n",
       "        vertical-align: middle;\n",
       "    }\n",
       "\n",
       "    .dataframe tbody tr th {\n",
       "        vertical-align: top;\n",
       "    }\n",
       "\n",
       "    .dataframe thead th {\n",
       "        text-align: right;\n",
       "    }\n",
       "</style>\n",
       "<table border=\"1\" class=\"dataframe\">\n",
       "  <thead>\n",
       "    <tr style=\"text-align: right;\">\n",
       "      <th></th>\n",
       "      <th>time_in_hospital</th>\n",
       "      <th>num_lab_procedures</th>\n",
       "      <th>num_procedures</th>\n",
       "      <th>num_medications</th>\n",
       "      <th>number_outpatient</th>\n",
       "      <th>number_emergency</th>\n",
       "      <th>number_inpatient</th>\n",
       "      <th>number_diagnoses</th>\n",
       "      <th>change_No</th>\n",
       "      <th>diabetesMed_Yes</th>\n",
       "      <th>readmitted</th>\n",
       "    </tr>\n",
       "  </thead>\n",
       "  <tbody>\n",
       "    <tr>\n",
       "      <th>0</th>\n",
       "      <td>-1.137649</td>\n",
       "      <td>-0.106517</td>\n",
       "      <td>-0.785398</td>\n",
       "      <td>-1.848268</td>\n",
       "      <td>-0.291461</td>\n",
       "      <td>-0.21262</td>\n",
       "      <td>-0.503276</td>\n",
       "      <td>-3.321596</td>\n",
       "      <td>0.926591</td>\n",
       "      <td>-1.829868</td>\n",
       "      <td>0</td>\n",
       "    </tr>\n",
       "    <tr>\n",
       "      <th>1</th>\n",
       "      <td>1.877333</td>\n",
       "      <td>0.655900</td>\n",
       "      <td>0.387074</td>\n",
       "      <td>0.981622</td>\n",
       "      <td>-0.291461</td>\n",
       "      <td>-0.21262</td>\n",
       "      <td>-0.503276</td>\n",
       "      <td>0.815784</td>\n",
       "      <td>-1.079225</td>\n",
       "      <td>0.546488</td>\n",
       "      <td>1</td>\n",
       "    </tr>\n",
       "    <tr>\n",
       "      <th>2</th>\n",
       "      <td>1.542335</td>\n",
       "      <td>0.910040</td>\n",
       "      <td>1.559545</td>\n",
       "      <td>1.104660</td>\n",
       "      <td>-0.291461</td>\n",
       "      <td>-0.21262</td>\n",
       "      <td>-0.503276</td>\n",
       "      <td>0.815784</td>\n",
       "      <td>-1.079225</td>\n",
       "      <td>0.546488</td>\n",
       "      <td>0</td>\n",
       "    </tr>\n",
       "    <tr>\n",
       "      <th>3</th>\n",
       "      <td>2.212331</td>\n",
       "      <td>1.265834</td>\n",
       "      <td>-0.785398</td>\n",
       "      <td>1.104660</td>\n",
       "      <td>-0.291461</td>\n",
       "      <td>-0.21262</td>\n",
       "      <td>-0.503276</td>\n",
       "      <td>0.815784</td>\n",
       "      <td>-1.079225</td>\n",
       "      <td>0.546488</td>\n",
       "      <td>1</td>\n",
       "    </tr>\n",
       "    <tr>\n",
       "      <th>4</th>\n",
       "      <td>0.537341</td>\n",
       "      <td>0.198450</td>\n",
       "      <td>0.387074</td>\n",
       "      <td>-0.371804</td>\n",
       "      <td>-0.291461</td>\n",
       "      <td>-0.21262</td>\n",
       "      <td>-0.503276</td>\n",
       "      <td>0.298612</td>\n",
       "      <td>0.926591</td>\n",
       "      <td>-1.829868</td>\n",
       "      <td>0</td>\n",
       "    </tr>\n",
       "  </tbody>\n",
       "</table>\n",
       "</div>"
      ],
      "text/plain": [
       "   time_in_hospital  num_lab_procedures  num_procedures  num_medications  \\\n",
       "0         -1.137649           -0.106517       -0.785398        -1.848268   \n",
       "1          1.877333            0.655900        0.387074         0.981622   \n",
       "2          1.542335            0.910040        1.559545         1.104660   \n",
       "3          2.212331            1.265834       -0.785398         1.104660   \n",
       "4          0.537341            0.198450        0.387074        -0.371804   \n",
       "\n",
       "   number_outpatient  number_emergency  number_inpatient  number_diagnoses  \\\n",
       "0          -0.291461          -0.21262         -0.503276         -3.321596   \n",
       "1          -0.291461          -0.21262         -0.503276          0.815784   \n",
       "2          -0.291461          -0.21262         -0.503276          0.815784   \n",
       "3          -0.291461          -0.21262         -0.503276          0.815784   \n",
       "4          -0.291461          -0.21262         -0.503276          0.298612   \n",
       "\n",
       "   change_No  diabetesMed_Yes  readmitted  \n",
       "0   0.926591        -1.829868           0  \n",
       "1  -1.079225         0.546488           1  \n",
       "2  -1.079225         0.546488           0  \n",
       "3  -1.079225         0.546488           1  \n",
       "4   0.926591        -1.829868           0  "
      ]
     },
     "execution_count": 3,
     "metadata": {},
     "output_type": "execute_result"
    }
   ],
   "source": [
    "df.head()"
   ]
  },
  {
   "cell_type": "code",
   "execution_count": 4,
   "metadata": {},
   "outputs": [
    {
     "name": "stdout",
     "output_type": "stream",
     "text": [
      "<class 'pandas.core.frame.DataFrame'>\n",
      "RangeIndex: 101766 entries, 0 to 101765\n",
      "Data columns (total 11 columns):\n",
      " #   Column              Non-Null Count   Dtype  \n",
      "---  ------              --------------   -----  \n",
      " 0   time_in_hospital    101766 non-null  float64\n",
      " 1   num_lab_procedures  101766 non-null  float64\n",
      " 2   num_procedures      101766 non-null  float64\n",
      " 3   num_medications     101766 non-null  float64\n",
      " 4   number_outpatient   101766 non-null  float64\n",
      " 5   number_emergency    101766 non-null  float64\n",
      " 6   number_inpatient    101766 non-null  float64\n",
      " 7   number_diagnoses    101766 non-null  float64\n",
      " 8   change_No           101766 non-null  float64\n",
      " 9   diabetesMed_Yes     101766 non-null  float64\n",
      " 10  readmitted          101766 non-null  int64  \n",
      "dtypes: float64(10), int64(1)\n",
      "memory usage: 8.5 MB\n"
     ]
    }
   ],
   "source": [
    "df.info()"
   ]
  },
  {
   "cell_type": "code",
   "execution_count": 5,
   "metadata": {},
   "outputs": [
    {
     "data": {
      "text/html": [
       "<div>\n",
       "<style scoped>\n",
       "    .dataframe tbody tr th:only-of-type {\n",
       "        vertical-align: middle;\n",
       "    }\n",
       "\n",
       "    .dataframe tbody tr th {\n",
       "        vertical-align: top;\n",
       "    }\n",
       "\n",
       "    .dataframe thead th {\n",
       "        text-align: right;\n",
       "    }\n",
       "</style>\n",
       "<table border=\"1\" class=\"dataframe\">\n",
       "  <thead>\n",
       "    <tr style=\"text-align: right;\">\n",
       "      <th></th>\n",
       "      <th>time_in_hospital</th>\n",
       "      <th>num_lab_procedures</th>\n",
       "      <th>num_procedures</th>\n",
       "      <th>num_medications</th>\n",
       "      <th>number_outpatient</th>\n",
       "      <th>number_emergency</th>\n",
       "      <th>number_inpatient</th>\n",
       "      <th>number_diagnoses</th>\n",
       "      <th>change_No</th>\n",
       "      <th>diabetesMed_Yes</th>\n",
       "      <th>readmitted</th>\n",
       "    </tr>\n",
       "  </thead>\n",
       "  <tbody>\n",
       "    <tr>\n",
       "      <th>count</th>\n",
       "      <td>1.017660e+05</td>\n",
       "      <td>1.017660e+05</td>\n",
       "      <td>1.017660e+05</td>\n",
       "      <td>1.017660e+05</td>\n",
       "      <td>1.017660e+05</td>\n",
       "      <td>1.017660e+05</td>\n",
       "      <td>1.017660e+05</td>\n",
       "      <td>1.017660e+05</td>\n",
       "      <td>1.017660e+05</td>\n",
       "      <td>1.017660e+05</td>\n",
       "      <td>101766.000000</td>\n",
       "    </tr>\n",
       "    <tr>\n",
       "      <th>mean</th>\n",
       "      <td>-1.016295e-14</td>\n",
       "      <td>-3.161646e-14</td>\n",
       "      <td>-5.187778e-14</td>\n",
       "      <td>6.766087e-14</td>\n",
       "      <td>6.485384e-14</td>\n",
       "      <td>2.175072e-14</td>\n",
       "      <td>-3.191962e-14</td>\n",
       "      <td>2.581804e-14</td>\n",
       "      <td>9.551232e-15</td>\n",
       "      <td>-1.823700e-14</td>\n",
       "      <td>0.460881</td>\n",
       "    </tr>\n",
       "    <tr>\n",
       "      <th>std</th>\n",
       "      <td>1.000005e+00</td>\n",
       "      <td>1.000005e+00</td>\n",
       "      <td>1.000005e+00</td>\n",
       "      <td>1.000005e+00</td>\n",
       "      <td>1.000005e+00</td>\n",
       "      <td>1.000005e+00</td>\n",
       "      <td>1.000005e+00</td>\n",
       "      <td>1.000005e+00</td>\n",
       "      <td>1.000005e+00</td>\n",
       "      <td>1.000005e+00</td>\n",
       "      <td>0.498470</td>\n",
       "    </tr>\n",
       "    <tr>\n",
       "      <th>min</th>\n",
       "      <td>-1.137649e+00</td>\n",
       "      <td>-2.139630e+00</td>\n",
       "      <td>-7.853977e-01</td>\n",
       "      <td>-1.848268e+00</td>\n",
       "      <td>-2.914615e-01</td>\n",
       "      <td>-2.126202e-01</td>\n",
       "      <td>-5.032762e-01</td>\n",
       "      <td>-3.321596e+00</td>\n",
       "      <td>-1.079225e+00</td>\n",
       "      <td>-1.829868e+00</td>\n",
       "      <td>0.000000</td>\n",
       "    </tr>\n",
       "    <tr>\n",
       "      <th>25%</th>\n",
       "      <td>-8.026506e-01</td>\n",
       "      <td>-6.147950e-01</td>\n",
       "      <td>-7.853977e-01</td>\n",
       "      <td>-7.409197e-01</td>\n",
       "      <td>-2.914615e-01</td>\n",
       "      <td>-2.126202e-01</td>\n",
       "      <td>-5.032762e-01</td>\n",
       "      <td>-7.357332e-01</td>\n",
       "      <td>-1.079225e+00</td>\n",
       "      <td>5.464875e-01</td>\n",
       "      <td>0.000000</td>\n",
       "    </tr>\n",
       "    <tr>\n",
       "      <th>50%</th>\n",
       "      <td>-1.326548e-01</td>\n",
       "      <td>4.596660e-02</td>\n",
       "      <td>-1.991621e-01</td>\n",
       "      <td>-1.257264e-01</td>\n",
       "      <td>-2.914615e-01</td>\n",
       "      <td>-2.126202e-01</td>\n",
       "      <td>-5.032762e-01</td>\n",
       "      <td>2.986119e-01</td>\n",
       "      <td>9.265905e-01</td>\n",
       "      <td>5.464875e-01</td>\n",
       "      <td>0.000000</td>\n",
       "    </tr>\n",
       "    <tr>\n",
       "      <th>75%</th>\n",
       "      <td>5.373411e-01</td>\n",
       "      <td>7.067282e-01</td>\n",
       "      <td>3.870736e-01</td>\n",
       "      <td>4.894670e-01</td>\n",
       "      <td>-2.914615e-01</td>\n",
       "      <td>-2.126202e-01</td>\n",
       "      <td>2.885790e-01</td>\n",
       "      <td>8.157845e-01</td>\n",
       "      <td>9.265905e-01</td>\n",
       "      <td>5.464875e-01</td>\n",
       "      <td>1.000000</td>\n",
       "    </tr>\n",
       "    <tr>\n",
       "      <th>max</th>\n",
       "      <td>3.217324e+00</td>\n",
       "      <td>4.518815e+00</td>\n",
       "      <td>2.732016e+00</td>\n",
       "      <td>7.994826e+00</td>\n",
       "      <td>3.285094e+01</td>\n",
       "      <td>8.146673e+01</td>\n",
       "      <td>1.612568e+01</td>\n",
       "      <td>4.435992e+00</td>\n",
       "      <td>9.265905e-01</td>\n",
       "      <td>5.464875e-01</td>\n",
       "      <td>1.000000</td>\n",
       "    </tr>\n",
       "  </tbody>\n",
       "</table>\n",
       "</div>"
      ],
      "text/plain": [
       "       time_in_hospital  num_lab_procedures  num_procedures  num_medications  \\\n",
       "count      1.017660e+05        1.017660e+05    1.017660e+05     1.017660e+05   \n",
       "mean      -1.016295e-14       -3.161646e-14   -5.187778e-14     6.766087e-14   \n",
       "std        1.000005e+00        1.000005e+00    1.000005e+00     1.000005e+00   \n",
       "min       -1.137649e+00       -2.139630e+00   -7.853977e-01    -1.848268e+00   \n",
       "25%       -8.026506e-01       -6.147950e-01   -7.853977e-01    -7.409197e-01   \n",
       "50%       -1.326548e-01        4.596660e-02   -1.991621e-01    -1.257264e-01   \n",
       "75%        5.373411e-01        7.067282e-01    3.870736e-01     4.894670e-01   \n",
       "max        3.217324e+00        4.518815e+00    2.732016e+00     7.994826e+00   \n",
       "\n",
       "       number_outpatient  number_emergency  number_inpatient  \\\n",
       "count       1.017660e+05      1.017660e+05      1.017660e+05   \n",
       "mean        6.485384e-14      2.175072e-14     -3.191962e-14   \n",
       "std         1.000005e+00      1.000005e+00      1.000005e+00   \n",
       "min        -2.914615e-01     -2.126202e-01     -5.032762e-01   \n",
       "25%        -2.914615e-01     -2.126202e-01     -5.032762e-01   \n",
       "50%        -2.914615e-01     -2.126202e-01     -5.032762e-01   \n",
       "75%        -2.914615e-01     -2.126202e-01      2.885790e-01   \n",
       "max         3.285094e+01      8.146673e+01      1.612568e+01   \n",
       "\n",
       "       number_diagnoses     change_No  diabetesMed_Yes     readmitted  \n",
       "count      1.017660e+05  1.017660e+05     1.017660e+05  101766.000000  \n",
       "mean       2.581804e-14  9.551232e-15    -1.823700e-14       0.460881  \n",
       "std        1.000005e+00  1.000005e+00     1.000005e+00       0.498470  \n",
       "min       -3.321596e+00 -1.079225e+00    -1.829868e+00       0.000000  \n",
       "25%       -7.357332e-01 -1.079225e+00     5.464875e-01       0.000000  \n",
       "50%        2.986119e-01  9.265905e-01     5.464875e-01       0.000000  \n",
       "75%        8.157845e-01  9.265905e-01     5.464875e-01       1.000000  \n",
       "max        4.435992e+00  9.265905e-01     5.464875e-01       1.000000  "
      ]
     },
     "execution_count": 5,
     "metadata": {},
     "output_type": "execute_result"
    }
   ],
   "source": [
    "df.describe()"
   ]
  },
  {
   "cell_type": "code",
   "execution_count": 6,
   "metadata": {},
   "outputs": [
    {
     "data": {
      "text/plain": [
       "(101766, 11)"
      ]
     },
     "execution_count": 6,
     "metadata": {},
     "output_type": "execute_result"
    }
   ],
   "source": [
    "df.shape"
   ]
  },
  {
   "cell_type": "markdown",
   "metadata": {},
   "source": [
    "### Train Model"
   ]
  },
  {
   "cell_type": "code",
   "execution_count": 7,
   "metadata": {},
   "outputs": [],
   "source": [
    "X = df.iloc[:,0:10]\n",
    "y = df.iloc[:,10]"
   ]
  },
  {
   "cell_type": "code",
   "execution_count": 8,
   "metadata": {},
   "outputs": [],
   "source": [
    "X_train, X_test, y_train, y_test = train_test_split(X, y, test_size=0.4, random_state=0)"
   ]
  },
  {
   "cell_type": "code",
   "execution_count": 9,
   "metadata": {},
   "outputs": [
    {
     "data": {
      "text/plain": [
       "((61059, 10), (40707, 10))"
      ]
     },
     "execution_count": 9,
     "metadata": {},
     "output_type": "execute_result"
    }
   ],
   "source": [
    "X_train.shape, X_test.shape"
   ]
  },
  {
   "cell_type": "code",
   "execution_count": 10,
   "metadata": {},
   "outputs": [],
   "source": [
    "hist = HistGradientBoostingClassifier(random_state=0, max_iter=100, scoring='auc-roc', loss='binary_crossentropy')"
   ]
  },
  {
   "cell_type": "code",
   "execution_count": 11,
   "metadata": {},
   "outputs": [
    {
     "data": {
      "text/plain": [
       "HistGradientBoostingClassifier(l2_regularization=0.0, learning_rate=0.1,\n",
       "                               loss='binary_crossentropy', max_bins=255,\n",
       "                               max_depth=None, max_iter=100, max_leaf_nodes=31,\n",
       "                               min_samples_leaf=20, n_iter_no_change=None,\n",
       "                               random_state=0, scoring='auc-roc', tol=1e-07,\n",
       "                               validation_fraction=0.1, verbose=0,\n",
       "                               warm_start=False)"
      ]
     },
     "execution_count": 11,
     "metadata": {},
     "output_type": "execute_result"
    }
   ],
   "source": [
    "hist.fit(X_train,y_train)"
   ]
  },
  {
   "cell_type": "code",
   "execution_count": 12,
   "metadata": {},
   "outputs": [],
   "source": [
    "y_pred = hist.predict(X_test)"
   ]
  },
  {
   "cell_type": "code",
   "execution_count": 13,
   "metadata": {},
   "outputs": [
    {
     "data": {
      "text/plain": [
       "array([1, 0, 1, ..., 0, 1, 1], dtype=int64)"
      ]
     },
     "execution_count": 13,
     "metadata": {},
     "output_type": "execute_result"
    }
   ],
   "source": [
    "y_pred"
   ]
  },
  {
   "cell_type": "code",
   "execution_count": 14,
   "metadata": {},
   "outputs": [
    {
     "data": {
      "image/png": "[encoded data removed]",
      "text/plain": [
       "<Figure size 432x288 with 1 Axes>"
      ]
     },
     "metadata": {
      "needs_background": "light"
     },
     "output_type": "display_data"
    }
   ],
   "source": [
    "plot_roc_curve(hist,X_test,y_test)\n",
    "plt.show()"
   ]
  },
  {
   "cell_type": "markdown",
   "metadata": {},
   "source": [
    "### Create a Decision Forest Regression Model"
   ]
  },
  {
   "cell_type": "code",
   "execution_count": 15,
   "metadata": {},
   "outputs": [],
   "source": [
    "df2 = pd.read_csv(\"train.csv\")"
   ]
  },
  {
   "cell_type": "code",
   "execution_count": 16,
   "metadata": {},
   "outputs": [
    {
     "data": {
      "text/html": [
       "<div>\n",
       "<style scoped>\n",
       "    .dataframe tbody tr th:only-of-type {\n",
       "        vertical-align: middle;\n",
       "    }\n",
       "\n",
       "    .dataframe tbody tr th {\n",
       "        vertical-align: top;\n",
       "    }\n",
       "\n",
       "    .dataframe thead th {\n",
       "        text-align: right;\n",
       "    }\n",
       "</style>\n",
       "<table border=\"1\" class=\"dataframe\">\n",
       "  <thead>\n",
       "    <tr style=\"text-align: right;\">\n",
       "      <th></th>\n",
       "      <th>season</th>\n",
       "      <th>yr</th>\n",
       "      <th>mnth</th>\n",
       "      <th>hr</th>\n",
       "      <th>holiday</th>\n",
       "      <th>weekday</th>\n",
       "      <th>workingday</th>\n",
       "      <th>weathersit</th>\n",
       "      <th>temp</th>\n",
       "      <th>atemp</th>\n",
       "      <th>hum</th>\n",
       "      <th>windspeed</th>\n",
       "      <th>casual</th>\n",
       "      <th>registered</th>\n",
       "      <th>cnt</th>\n",
       "    </tr>\n",
       "  </thead>\n",
       "  <tbody>\n",
       "    <tr>\n",
       "      <th>0</th>\n",
       "      <td>-1.356634</td>\n",
       "      <td>-1.005134</td>\n",
       "      <td>-1.610438</td>\n",
       "      <td>-1.670004</td>\n",
       "      <td>-0.172112</td>\n",
       "      <td>1.493891</td>\n",
       "      <td>-1.46690</td>\n",
       "      <td>-0.665193</td>\n",
       "      <td>-1.334648</td>\n",
       "      <td>-1.093281</td>\n",
       "      <td>0.947372</td>\n",
       "      <td>-1.553889</td>\n",
       "      <td>-0.662755</td>\n",
       "      <td>-0.930189</td>\n",
       "      <td>16</td>\n",
       "    </tr>\n",
       "    <tr>\n",
       "      <th>1</th>\n",
       "      <td>-1.356634</td>\n",
       "      <td>-1.005134</td>\n",
       "      <td>-1.610438</td>\n",
       "      <td>-1.525374</td>\n",
       "      <td>-0.172112</td>\n",
       "      <td>1.493891</td>\n",
       "      <td>-1.46690</td>\n",
       "      <td>-0.665193</td>\n",
       "      <td>-1.438516</td>\n",
       "      <td>-1.181732</td>\n",
       "      <td>0.895539</td>\n",
       "      <td>-1.553889</td>\n",
       "      <td>-0.561343</td>\n",
       "      <td>-0.804655</td>\n",
       "      <td>40</td>\n",
       "    </tr>\n",
       "    <tr>\n",
       "      <th>2</th>\n",
       "      <td>-1.356634</td>\n",
       "      <td>-1.005134</td>\n",
       "      <td>-1.610438</td>\n",
       "      <td>-1.380744</td>\n",
       "      <td>-0.172112</td>\n",
       "      <td>1.493891</td>\n",
       "      <td>-1.46690</td>\n",
       "      <td>-0.665193</td>\n",
       "      <td>-1.438516</td>\n",
       "      <td>-1.181732</td>\n",
       "      <td>0.895539</td>\n",
       "      <td>-1.553889</td>\n",
       "      <td>-0.622190</td>\n",
       "      <td>-0.837690</td>\n",
       "      <td>32</td>\n",
       "    </tr>\n",
       "    <tr>\n",
       "      <th>3</th>\n",
       "      <td>-1.356634</td>\n",
       "      <td>-1.005134</td>\n",
       "      <td>-1.610438</td>\n",
       "      <td>-1.236115</td>\n",
       "      <td>-0.172112</td>\n",
       "      <td>1.493891</td>\n",
       "      <td>-1.46690</td>\n",
       "      <td>-0.665193</td>\n",
       "      <td>-1.334648</td>\n",
       "      <td>-1.093281</td>\n",
       "      <td>0.636370</td>\n",
       "      <td>-1.553889</td>\n",
       "      <td>-0.662755</td>\n",
       "      <td>-0.950010</td>\n",
       "      <td>13</td>\n",
       "    </tr>\n",
       "    <tr>\n",
       "      <th>4</th>\n",
       "      <td>-1.356634</td>\n",
       "      <td>-1.005134</td>\n",
       "      <td>-1.610438</td>\n",
       "      <td>-1.091485</td>\n",
       "      <td>-0.172112</td>\n",
       "      <td>1.493891</td>\n",
       "      <td>-1.46690</td>\n",
       "      <td>-0.665193</td>\n",
       "      <td>-1.334648</td>\n",
       "      <td>-1.093281</td>\n",
       "      <td>0.636370</td>\n",
       "      <td>-1.553889</td>\n",
       "      <td>-0.723603</td>\n",
       "      <td>-1.009474</td>\n",
       "      <td>1</td>\n",
       "    </tr>\n",
       "    <tr>\n",
       "      <th>...</th>\n",
       "      <td>...</td>\n",
       "      <td>...</td>\n",
       "      <td>...</td>\n",
       "      <td>...</td>\n",
       "      <td>...</td>\n",
       "      <td>...</td>\n",
       "      <td>...</td>\n",
       "      <td>...</td>\n",
       "      <td>...</td>\n",
       "      <td>...</td>\n",
       "      <td>...</td>\n",
       "      <td>...</td>\n",
       "      <td>...</td>\n",
       "      <td>...</td>\n",
       "      <td>...</td>\n",
       "    </tr>\n",
       "    <tr>\n",
       "      <th>17374</th>\n",
       "      <td>-1.356634</td>\n",
       "      <td>0.994892</td>\n",
       "      <td>1.588467</td>\n",
       "      <td>1.077962</td>\n",
       "      <td>-0.172112</td>\n",
       "      <td>-0.998987</td>\n",
       "      <td>0.68171</td>\n",
       "      <td>0.898924</td>\n",
       "      <td>-1.230779</td>\n",
       "      <td>-1.269602</td>\n",
       "      <td>-0.141137</td>\n",
       "      <td>-0.211691</td>\n",
       "      <td>-0.500495</td>\n",
       "      <td>-0.302517</td>\n",
       "      <td>119</td>\n",
       "    </tr>\n",
       "    <tr>\n",
       "      <th>17375</th>\n",
       "      <td>-1.356634</td>\n",
       "      <td>0.994892</td>\n",
       "      <td>1.588467</td>\n",
       "      <td>1.222591</td>\n",
       "      <td>-0.172112</td>\n",
       "      <td>-0.998987</td>\n",
       "      <td>0.68171</td>\n",
       "      <td>0.898924</td>\n",
       "      <td>-1.230779</td>\n",
       "      <td>-1.269602</td>\n",
       "      <td>-0.141137</td>\n",
       "      <td>-0.211691</td>\n",
       "      <td>-0.561343</td>\n",
       "      <td>-0.480908</td>\n",
       "      <td>89</td>\n",
       "    </tr>\n",
       "    <tr>\n",
       "      <th>17376</th>\n",
       "      <td>-1.356634</td>\n",
       "      <td>0.994892</td>\n",
       "      <td>1.588467</td>\n",
       "      <td>1.367221</td>\n",
       "      <td>-0.172112</td>\n",
       "      <td>-0.998987</td>\n",
       "      <td>0.68171</td>\n",
       "      <td>-0.665193</td>\n",
       "      <td>-1.230779</td>\n",
       "      <td>-1.269602</td>\n",
       "      <td>-0.141137</td>\n",
       "      <td>-0.211691</td>\n",
       "      <td>-0.581625</td>\n",
       "      <td>-0.467694</td>\n",
       "      <td>90</td>\n",
       "    </tr>\n",
       "    <tr>\n",
       "      <th>17377</th>\n",
       "      <td>-1.356634</td>\n",
       "      <td>0.994892</td>\n",
       "      <td>1.588467</td>\n",
       "      <td>1.511851</td>\n",
       "      <td>-0.172112</td>\n",
       "      <td>-0.998987</td>\n",
       "      <td>0.68171</td>\n",
       "      <td>-0.665193</td>\n",
       "      <td>-1.230779</td>\n",
       "      <td>-1.181732</td>\n",
       "      <td>-0.348473</td>\n",
       "      <td>-0.456099</td>\n",
       "      <td>-0.459930</td>\n",
       "      <td>-0.698942</td>\n",
       "      <td>61</td>\n",
       "    </tr>\n",
       "    <tr>\n",
       "      <th>17378</th>\n",
       "      <td>-1.356634</td>\n",
       "      <td>0.994892</td>\n",
       "      <td>1.588467</td>\n",
       "      <td>1.656481</td>\n",
       "      <td>-0.172112</td>\n",
       "      <td>-0.998987</td>\n",
       "      <td>0.68171</td>\n",
       "      <td>-0.665193</td>\n",
       "      <td>-1.230779</td>\n",
       "      <td>-1.181732</td>\n",
       "      <td>0.118032</td>\n",
       "      <td>-0.456099</td>\n",
       "      <td>-0.480213</td>\n",
       "      <td>-0.771619</td>\n",
       "      <td>49</td>\n",
       "    </tr>\n",
       "  </tbody>\n",
       "</table>\n",
       "<p>17379 rows × 15 columns</p>\n",
       "</div>"
      ],
      "text/plain": [
       "         season        yr      mnth        hr   holiday   weekday  workingday  \\\n",
       "0     -1.356634 -1.005134 -1.610438 -1.670004 -0.172112  1.493891    -1.46690   \n",
       "1     -1.356634 -1.005134 -1.610438 -1.525374 -0.172112  1.493891    -1.46690   \n",
       "2     -1.356634 -1.005134 -1.610438 -1.380744 -0.172112  1.493891    -1.46690   \n",
       "3     -1.356634 -1.005134 -1.610438 -1.236115 -0.172112  1.493891    -1.46690   \n",
       "4     -1.356634 -1.005134 -1.610438 -1.091485 -0.172112  1.493891    -1.46690   \n",
       "...         ...       ...       ...       ...       ...       ...         ...   \n",
       "17374 -1.356634  0.994892  1.588467  1.077962 -0.172112 -0.998987     0.68171   \n",
       "17375 -1.356634  0.994892  1.588467  1.222591 -0.172112 -0.998987     0.68171   \n",
       "17376 -1.356634  0.994892  1.588467  1.367221 -0.172112 -0.998987     0.68171   \n",
       "17377 -1.356634  0.994892  1.588467  1.511851 -0.172112 -0.998987     0.68171   \n",
       "17378 -1.356634  0.994892  1.588467  1.656481 -0.172112 -0.998987     0.68171   \n",
       "\n",
       "       weathersit      temp     atemp       hum  windspeed    casual  \\\n",
       "0       -0.665193 -1.334648 -1.093281  0.947372  -1.553889 -0.662755   \n",
       "1       -0.665193 -1.438516 -1.181732  0.895539  -1.553889 -0.561343   \n",
       "2       -0.665193 -1.438516 -1.181732  0.895539  -1.553889 -0.622190   \n",
       "3       -0.665193 -1.334648 -1.093281  0.636370  -1.553889 -0.662755   \n",
       "4       -0.665193 -1.334648 -1.093281  0.636370  -1.553889 -0.723603   \n",
       "...           ...       ...       ...       ...        ...       ...   \n",
       "17374    0.898924 -1.230779 -1.269602 -0.141137  -0.211691 -0.500495   \n",
       "17375    0.898924 -1.230779 -1.269602 -0.141137  -0.211691 -0.561343   \n",
       "17376   -0.665193 -1.230779 -1.269602 -0.141137  -0.211691 -0.581625   \n",
       "17377   -0.665193 -1.230779 -1.181732 -0.348473  -0.456099 -0.459930   \n",
       "17378   -0.665193 -1.230779 -1.181732  0.118032  -0.456099 -0.480213   \n",
       "\n",
       "       registered  cnt  \n",
       "0       -0.930189   16  \n",
       "1       -0.804655   40  \n",
       "2       -0.837690   32  \n",
       "3       -0.950010   13  \n",
       "4       -1.009474    1  \n",
       "...           ...  ...  \n",
       "17374   -0.302517  119  \n",
       "17375   -0.480908   89  \n",
       "17376   -0.467694   90  \n",
       "17377   -0.698942   61  \n",
       "17378   -0.771619   49  \n",
       "\n",
       "[17379 rows x 15 columns]"
      ]
     },
     "execution_count": 16,
     "metadata": {},
     "output_type": "execute_result"
    }
   ],
   "source": [
    "df2"
   ]
  },
  {
   "cell_type": "code",
   "execution_count": 18,
   "metadata": {},
   "outputs": [],
   "source": [
    "X = df2.iloc[:,0:14]\n",
    "y = df2.iloc[:,14]"
   ]
  },
  {
   "cell_type": "code",
   "execution_count": 19,
   "metadata": {},
   "outputs": [
    {
     "data": {
      "text/plain": [
       "(array([[-1.3566343 , -1.0051343 , -1.61043792, ..., -1.55388851,\n",
       "         -0.66275506, -0.93018925],\n",
       "        [-1.3566343 , -1.0051343 , -1.61043792, ..., -1.55388851,\n",
       "         -0.56134262, -0.80465484],\n",
       "        [-1.3566343 , -1.0051343 , -1.61043792, ..., -1.55388851,\n",
       "         -0.62219008, -0.83769021],\n",
       "        ...,\n",
       "        [-1.3566343 ,  0.99489192,  1.58846698, ..., -0.21169121,\n",
       "         -0.58162511, -0.46769408],\n",
       "        [-1.3566343 ,  0.99489192,  1.58846698, ..., -0.45609864,\n",
       "         -0.45993017, -0.69894166],\n",
       "        [-1.3566343 ,  0.99489192,  1.58846698, ..., -0.45609864,\n",
       "         -0.48021266, -0.77161947]]),\n",
       " array([16, 40, 32, ..., 90, 61, 49], dtype=int64))"
      ]
     },
     "execution_count": 19,
     "metadata": {},
     "output_type": "execute_result"
    }
   ],
   "source": [
    "X.values, y.values"
   ]
  },
  {
   "cell_type": "code",
   "execution_count": 20,
   "metadata": {},
   "outputs": [],
   "source": [
    "X_train, X_test, y_train, y_test = train_test_split(X, y, test_size=0.3, random_state=0)"
   ]
  },
  {
   "cell_type": "code",
   "execution_count": 21,
   "metadata": {},
   "outputs": [
    {
     "data": {
      "text/plain": [
       "((12165, 14), (5214, 14))"
      ]
     },
     "execution_count": 21,
     "metadata": {},
     "output_type": "execute_result"
    }
   ],
   "source": [
    "X_train.shape, X_test.shape"
   ]
  },
  {
   "cell_type": "code",
   "execution_count": 22,
   "metadata": {},
   "outputs": [],
   "source": [
    "hist = HistGradientBoostingRegressor(random_state=0, max_iter=100, scoring='rmse', loss='least_squares')"
   ]
  },
  {
   "cell_type": "code",
   "execution_count": 23,
   "metadata": {},
   "outputs": [
    {
     "data": {
      "text/plain": [
       "HistGradientBoostingRegressor(l2_regularization=0.0, learning_rate=0.1,\n",
       "                              loss='least_squares', max_bins=255,\n",
       "                              max_depth=None, max_iter=100, max_leaf_nodes=31,\n",
       "                              min_samples_leaf=20, n_iter_no_change=None,\n",
       "                              random_state=0, scoring='rmse', tol=1e-07,\n",
       "                              validation_fraction=0.1, verbose=0,\n",
       "                              warm_start=False)"
      ]
     },
     "execution_count": 23,
     "metadata": {},
     "output_type": "execute_result"
    }
   ],
   "source": [
    "hist.fit(X_train,y_train)"
   ]
  },
  {
   "cell_type": "code",
   "execution_count": 24,
   "metadata": {},
   "outputs": [],
   "source": [
    "y_pred = hist.predict(X_test)"
   ]
  },
  {
   "cell_type": "code",
   "execution_count": 25,
   "metadata": {},
   "outputs": [
    {
     "data": {
      "text/plain": [
       "array([  8.02600074,   4.88458622, 739.1829481 , ..., 503.40812932,\n",
       "       302.87579958, 227.33938556])"
      ]
     },
     "execution_count": 25,
     "metadata": {},
     "output_type": "execute_result"
    }
   ],
   "source": [
    "y_pred"
   ]
  },
  {
   "cell_type": "code",
   "execution_count": 26,
   "metadata": {},
   "outputs": [
    {
     "data": {
      "text/plain": [
       "1.9969975500397013"
      ]
     },
     "execution_count": 26,
     "metadata": {},
     "output_type": "execute_result"
    }
   ],
   "source": [
    "mse = mean_absolute_error(y_test,y_pred)\n",
    "mse"
   ]
  },
  {
   "cell_type": "code",
   "execution_count": 27,
   "metadata": {},
   "outputs": [
    {
     "data": {
      "text/plain": [
       "1.4131516373127482"
      ]
     },
     "execution_count": 27,
     "metadata": {},
     "output_type": "execute_result"
    }
   ],
   "source": [
    "rmse = np.sqrt(mse)\n",
    "rmse"
   ]
  },
  {
   "cell_type": "code",
   "execution_count": null,
   "metadata": {},
   "outputs": [],
   "source": []
  }
 ],
 "metadata": {
  "kernelspec": {
   "display_name": "Python 3",
   "language": "python",
   "name": "python3"
  },
  "language_info": {
   "codemirror_mode": {
    "name": "ipython",
    "version": 3
   },
   "file_extension": ".py",
   "mimetype": "text/x-python",
   "name": "python",
   "nbconvert_exporter": "python",
   "pygments_lexer": "ipython3",
   "version": "3.7.6"
  }
 },
 "nbformat": 4,
 "nbformat_minor": 4
}
