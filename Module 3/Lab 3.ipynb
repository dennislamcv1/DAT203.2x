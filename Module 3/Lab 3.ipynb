{
 "cells": [
  {
   "cell_type": "code",
   "execution_count": 1,
   "metadata": {},
   "outputs": [],
   "source": [
    "import numpy as np\n",
    "import pandas as pd\n",
    "import matplotlib.pyplot as plt\n",
    "import seaborn as sns\n",
    "import sklearn\n",
    "\n",
    "import xgboost as xgb\n",
    "from xgboost import XGBClassifier, XGBRegressor\n",
    "from xgboost import to_graphviz\n",
    "from xgboost import plot_importance\n",
    "\n",
    "%matplotlib inline\n",
    "\n",
    "from sklearn.model_selection import cross_val_score, train_test_split, GridSearchCV, RandomizedSearchCV\n",
    "from sklearn.preprocessing import LabelEncoder, StandardScaler, MinMaxScaler\n",
    "from sklearn.metrics import confusion_matrix, classification_report, mean_absolute_error, mean_squared_error,r2_score\n",
    "from sklearn.metrics import plot_confusion_matrix, plot_precision_recall_curve, plot_roc_curve\n",
    "\n",
    "pd.options.display.max_columns= None\n",
    "#pd.options.display.max_rows = None"
   ]
  },
  {
   "cell_type": "code",
   "execution_count": 2,
   "metadata": {},
   "outputs": [],
   "source": [
    "df = pd.read_csv(\"train.csv\")"
   ]
  },
  {
   "cell_type": "code",
   "execution_count": 3,
   "metadata": {},
   "outputs": [
    {
     "data": {
      "text/html": [
       "<div>\n",
       "<style scoped>\n",
       "    .dataframe tbody tr th:only-of-type {\n",
       "        vertical-align: middle;\n",
       "    }\n",
       "\n",
       "    .dataframe tbody tr th {\n",
       "        vertical-align: top;\n",
       "    }\n",
       "\n",
       "    .dataframe thead th {\n",
       "        text-align: right;\n",
       "    }\n",
       "</style>\n",
       "<table border=\"1\" class=\"dataframe\">\n",
       "  <thead>\n",
       "    <tr style=\"text-align: right;\">\n",
       "      <th></th>\n",
       "      <th>time_in_hospital</th>\n",
       "      <th>num_lab_procedures</th>\n",
       "      <th>num_procedures</th>\n",
       "      <th>num_medications</th>\n",
       "      <th>number_outpatient</th>\n",
       "      <th>number_emergency</th>\n",
       "      <th>number_inpatient</th>\n",
       "      <th>number_diagnoses</th>\n",
       "      <th>change_No</th>\n",
       "      <th>diabetesMed_Yes</th>\n",
       "      <th>readmitted</th>\n",
       "    </tr>\n",
       "  </thead>\n",
       "  <tbody>\n",
       "    <tr>\n",
       "      <th>0</th>\n",
       "      <td>1</td>\n",
       "      <td>41</td>\n",
       "      <td>0</td>\n",
       "      <td>1</td>\n",
       "      <td>0</td>\n",
       "      <td>0</td>\n",
       "      <td>0</td>\n",
       "      <td>1</td>\n",
       "      <td>1</td>\n",
       "      <td>0</td>\n",
       "      <td>0</td>\n",
       "    </tr>\n",
       "    <tr>\n",
       "      <th>1</th>\n",
       "      <td>10</td>\n",
       "      <td>56</td>\n",
       "      <td>2</td>\n",
       "      <td>24</td>\n",
       "      <td>0</td>\n",
       "      <td>0</td>\n",
       "      <td>0</td>\n",
       "      <td>9</td>\n",
       "      <td>0</td>\n",
       "      <td>1</td>\n",
       "      <td>1</td>\n",
       "    </tr>\n",
       "    <tr>\n",
       "      <th>2</th>\n",
       "      <td>9</td>\n",
       "      <td>61</td>\n",
       "      <td>4</td>\n",
       "      <td>25</td>\n",
       "      <td>0</td>\n",
       "      <td>0</td>\n",
       "      <td>0</td>\n",
       "      <td>9</td>\n",
       "      <td>0</td>\n",
       "      <td>1</td>\n",
       "      <td>0</td>\n",
       "    </tr>\n",
       "    <tr>\n",
       "      <th>3</th>\n",
       "      <td>11</td>\n",
       "      <td>68</td>\n",
       "      <td>0</td>\n",
       "      <td>25</td>\n",
       "      <td>0</td>\n",
       "      <td>0</td>\n",
       "      <td>0</td>\n",
       "      <td>9</td>\n",
       "      <td>0</td>\n",
       "      <td>1</td>\n",
       "      <td>1</td>\n",
       "    </tr>\n",
       "    <tr>\n",
       "      <th>4</th>\n",
       "      <td>6</td>\n",
       "      <td>47</td>\n",
       "      <td>2</td>\n",
       "      <td>13</td>\n",
       "      <td>0</td>\n",
       "      <td>0</td>\n",
       "      <td>0</td>\n",
       "      <td>8</td>\n",
       "      <td>1</td>\n",
       "      <td>0</td>\n",
       "      <td>0</td>\n",
       "    </tr>\n",
       "    <tr>\n",
       "      <th>...</th>\n",
       "      <td>...</td>\n",
       "      <td>...</td>\n",
       "      <td>...</td>\n",
       "      <td>...</td>\n",
       "      <td>...</td>\n",
       "      <td>...</td>\n",
       "      <td>...</td>\n",
       "      <td>...</td>\n",
       "      <td>...</td>\n",
       "      <td>...</td>\n",
       "      <td>...</td>\n",
       "    </tr>\n",
       "    <tr>\n",
       "      <th>101761</th>\n",
       "      <td>1</td>\n",
       "      <td>1</td>\n",
       "      <td>2</td>\n",
       "      <td>5</td>\n",
       "      <td>0</td>\n",
       "      <td>0</td>\n",
       "      <td>0</td>\n",
       "      <td>7</td>\n",
       "      <td>1</td>\n",
       "      <td>1</td>\n",
       "      <td>0</td>\n",
       "    </tr>\n",
       "    <tr>\n",
       "      <th>101762</th>\n",
       "      <td>4</td>\n",
       "      <td>66</td>\n",
       "      <td>0</td>\n",
       "      <td>16</td>\n",
       "      <td>0</td>\n",
       "      <td>0</td>\n",
       "      <td>0</td>\n",
       "      <td>9</td>\n",
       "      <td>1</td>\n",
       "      <td>0</td>\n",
       "      <td>0</td>\n",
       "    </tr>\n",
       "    <tr>\n",
       "      <th>101763</th>\n",
       "      <td>6</td>\n",
       "      <td>61</td>\n",
       "      <td>1</td>\n",
       "      <td>14</td>\n",
       "      <td>0</td>\n",
       "      <td>0</td>\n",
       "      <td>0</td>\n",
       "      <td>9</td>\n",
       "      <td>1</td>\n",
       "      <td>1</td>\n",
       "      <td>0</td>\n",
       "    </tr>\n",
       "    <tr>\n",
       "      <th>101764</th>\n",
       "      <td>9</td>\n",
       "      <td>45</td>\n",
       "      <td>6</td>\n",
       "      <td>23</td>\n",
       "      <td>0</td>\n",
       "      <td>0</td>\n",
       "      <td>0</td>\n",
       "      <td>9</td>\n",
       "      <td>1</td>\n",
       "      <td>0</td>\n",
       "      <td>0</td>\n",
       "    </tr>\n",
       "    <tr>\n",
       "      <th>101765</th>\n",
       "      <td>3</td>\n",
       "      <td>64</td>\n",
       "      <td>1</td>\n",
       "      <td>15</td>\n",
       "      <td>0</td>\n",
       "      <td>0</td>\n",
       "      <td>0</td>\n",
       "      <td>9</td>\n",
       "      <td>0</td>\n",
       "      <td>1</td>\n",
       "      <td>0</td>\n",
       "    </tr>\n",
       "  </tbody>\n",
       "</table>\n",
       "<p>101766 rows × 11 columns</p>\n",
       "</div>"
      ],
      "text/plain": [
       "        time_in_hospital  num_lab_procedures  num_procedures  num_medications  \\\n",
       "0                      1                  41               0                1   \n",
       "1                     10                  56               2               24   \n",
       "2                      9                  61               4               25   \n",
       "3                     11                  68               0               25   \n",
       "4                      6                  47               2               13   \n",
       "...                  ...                 ...             ...              ...   \n",
       "101761                 1                   1               2                5   \n",
       "101762                 4                  66               0               16   \n",
       "101763                 6                  61               1               14   \n",
       "101764                 9                  45               6               23   \n",
       "101765                 3                  64               1               15   \n",
       "\n",
       "        number_outpatient  number_emergency  number_inpatient  \\\n",
       "0                       0                 0                 0   \n",
       "1                       0                 0                 0   \n",
       "2                       0                 0                 0   \n",
       "3                       0                 0                 0   \n",
       "4                       0                 0                 0   \n",
       "...                   ...               ...               ...   \n",
       "101761                  0                 0                 0   \n",
       "101762                  0                 0                 0   \n",
       "101763                  0                 0                 0   \n",
       "101764                  0                 0                 0   \n",
       "101765                  0                 0                 0   \n",
       "\n",
       "        number_diagnoses  change_No  diabetesMed_Yes  readmitted  \n",
       "0                      1          1                0           0  \n",
       "1                      9          0                1           1  \n",
       "2                      9          0                1           0  \n",
       "3                      9          0                1           1  \n",
       "4                      8          1                0           0  \n",
       "...                  ...        ...              ...         ...  \n",
       "101761                 7          1                1           0  \n",
       "101762                 9          1                0           0  \n",
       "101763                 9          1                1           0  \n",
       "101764                 9          1                0           0  \n",
       "101765                 9          0                1           0  \n",
       "\n",
       "[101766 rows x 11 columns]"
      ]
     },
     "execution_count": 3,
     "metadata": {},
     "output_type": "execute_result"
    }
   ],
   "source": [
    "df"
   ]
  },
  {
   "cell_type": "code",
   "execution_count": 4,
   "metadata": {},
   "outputs": [
    {
     "name": "stdout",
     "output_type": "stream",
     "text": [
      "<class 'pandas.core.frame.DataFrame'>\n",
      "RangeIndex: 101766 entries, 0 to 101765\n",
      "Data columns (total 11 columns):\n",
      " #   Column              Non-Null Count   Dtype\n",
      "---  ------              --------------   -----\n",
      " 0   time_in_hospital    101766 non-null  int64\n",
      " 1   num_lab_procedures  101766 non-null  int64\n",
      " 2   num_procedures      101766 non-null  int64\n",
      " 3   num_medications     101766 non-null  int64\n",
      " 4   number_outpatient   101766 non-null  int64\n",
      " 5   number_emergency    101766 non-null  int64\n",
      " 6   number_inpatient    101766 non-null  int64\n",
      " 7   number_diagnoses    101766 non-null  int64\n",
      " 8   change_No           101766 non-null  int64\n",
      " 9   diabetesMed_Yes     101766 non-null  int64\n",
      " 10  readmitted          101766 non-null  int64\n",
      "dtypes: int64(11)\n",
      "memory usage: 8.5 MB\n"
     ]
    }
   ],
   "source": [
    "df.info()"
   ]
  },
  {
   "cell_type": "code",
   "execution_count": 5,
   "metadata": {},
   "outputs": [
    {
     "data": {
      "text/html": [
       "<div>\n",
       "<style scoped>\n",
       "    .dataframe tbody tr th:only-of-type {\n",
       "        vertical-align: middle;\n",
       "    }\n",
       "\n",
       "    .dataframe tbody tr th {\n",
       "        vertical-align: top;\n",
       "    }\n",
       "\n",
       "    .dataframe thead th {\n",
       "        text-align: right;\n",
       "    }\n",
       "</style>\n",
       "<table border=\"1\" class=\"dataframe\">\n",
       "  <thead>\n",
       "    <tr style=\"text-align: right;\">\n",
       "      <th></th>\n",
       "      <th>time_in_hospital</th>\n",
       "      <th>num_lab_procedures</th>\n",
       "      <th>num_procedures</th>\n",
       "      <th>num_medications</th>\n",
       "      <th>number_outpatient</th>\n",
       "      <th>number_emergency</th>\n",
       "      <th>number_inpatient</th>\n",
       "      <th>number_diagnoses</th>\n",
       "      <th>change_No</th>\n",
       "      <th>diabetesMed_Yes</th>\n",
       "      <th>readmitted</th>\n",
       "    </tr>\n",
       "  </thead>\n",
       "  <tbody>\n",
       "    <tr>\n",
       "      <th>count</th>\n",
       "      <td>101766.000000</td>\n",
       "      <td>101766.000000</td>\n",
       "      <td>101766.000000</td>\n",
       "      <td>101766.000000</td>\n",
       "      <td>101766.000000</td>\n",
       "      <td>101766.000000</td>\n",
       "      <td>101766.000000</td>\n",
       "      <td>101766.000000</td>\n",
       "      <td>101766.000000</td>\n",
       "      <td>101766.000000</td>\n",
       "      <td>101766.000000</td>\n",
       "    </tr>\n",
       "    <tr>\n",
       "      <th>mean</th>\n",
       "      <td>4.395987</td>\n",
       "      <td>43.095641</td>\n",
       "      <td>1.339730</td>\n",
       "      <td>16.021844</td>\n",
       "      <td>0.369357</td>\n",
       "      <td>0.197836</td>\n",
       "      <td>0.635566</td>\n",
       "      <td>7.422607</td>\n",
       "      <td>0.538048</td>\n",
       "      <td>0.770031</td>\n",
       "      <td>0.460881</td>\n",
       "    </tr>\n",
       "    <tr>\n",
       "      <th>std</th>\n",
       "      <td>2.985108</td>\n",
       "      <td>19.674362</td>\n",
       "      <td>1.705807</td>\n",
       "      <td>8.127566</td>\n",
       "      <td>1.267265</td>\n",
       "      <td>0.930472</td>\n",
       "      <td>1.262863</td>\n",
       "      <td>1.933600</td>\n",
       "      <td>0.498553</td>\n",
       "      <td>0.420815</td>\n",
       "      <td>0.498470</td>\n",
       "    </tr>\n",
       "    <tr>\n",
       "      <th>min</th>\n",
       "      <td>1.000000</td>\n",
       "      <td>1.000000</td>\n",
       "      <td>0.000000</td>\n",
       "      <td>1.000000</td>\n",
       "      <td>0.000000</td>\n",
       "      <td>0.000000</td>\n",
       "      <td>0.000000</td>\n",
       "      <td>1.000000</td>\n",
       "      <td>0.000000</td>\n",
       "      <td>0.000000</td>\n",
       "      <td>0.000000</td>\n",
       "    </tr>\n",
       "    <tr>\n",
       "      <th>25%</th>\n",
       "      <td>2.000000</td>\n",
       "      <td>31.000000</td>\n",
       "      <td>0.000000</td>\n",
       "      <td>10.000000</td>\n",
       "      <td>0.000000</td>\n",
       "      <td>0.000000</td>\n",
       "      <td>0.000000</td>\n",
       "      <td>6.000000</td>\n",
       "      <td>0.000000</td>\n",
       "      <td>1.000000</td>\n",
       "      <td>0.000000</td>\n",
       "    </tr>\n",
       "    <tr>\n",
       "      <th>50%</th>\n",
       "      <td>4.000000</td>\n",
       "      <td>44.000000</td>\n",
       "      <td>1.000000</td>\n",
       "      <td>15.000000</td>\n",
       "      <td>0.000000</td>\n",
       "      <td>0.000000</td>\n",
       "      <td>0.000000</td>\n",
       "      <td>8.000000</td>\n",
       "      <td>1.000000</td>\n",
       "      <td>1.000000</td>\n",
       "      <td>0.000000</td>\n",
       "    </tr>\n",
       "    <tr>\n",
       "      <th>75%</th>\n",
       "      <td>6.000000</td>\n",
       "      <td>57.000000</td>\n",
       "      <td>2.000000</td>\n",
       "      <td>20.000000</td>\n",
       "      <td>0.000000</td>\n",
       "      <td>0.000000</td>\n",
       "      <td>1.000000</td>\n",
       "      <td>9.000000</td>\n",
       "      <td>1.000000</td>\n",
       "      <td>1.000000</td>\n",
       "      <td>1.000000</td>\n",
       "    </tr>\n",
       "    <tr>\n",
       "      <th>max</th>\n",
       "      <td>14.000000</td>\n",
       "      <td>132.000000</td>\n",
       "      <td>6.000000</td>\n",
       "      <td>81.000000</td>\n",
       "      <td>42.000000</td>\n",
       "      <td>76.000000</td>\n",
       "      <td>21.000000</td>\n",
       "      <td>16.000000</td>\n",
       "      <td>1.000000</td>\n",
       "      <td>1.000000</td>\n",
       "      <td>1.000000</td>\n",
       "    </tr>\n",
       "  </tbody>\n",
       "</table>\n",
       "</div>"
      ],
      "text/plain": [
       "       time_in_hospital  num_lab_procedures  num_procedures  num_medications  \\\n",
       "count     101766.000000       101766.000000   101766.000000    101766.000000   \n",
       "mean           4.395987           43.095641        1.339730        16.021844   \n",
       "std            2.985108           19.674362        1.705807         8.127566   \n",
       "min            1.000000            1.000000        0.000000         1.000000   \n",
       "25%            2.000000           31.000000        0.000000        10.000000   \n",
       "50%            4.000000           44.000000        1.000000        15.000000   \n",
       "75%            6.000000           57.000000        2.000000        20.000000   \n",
       "max           14.000000          132.000000        6.000000        81.000000   \n",
       "\n",
       "       number_outpatient  number_emergency  number_inpatient  \\\n",
       "count      101766.000000     101766.000000     101766.000000   \n",
       "mean            0.369357          0.197836          0.635566   \n",
       "std             1.267265          0.930472          1.262863   \n",
       "min             0.000000          0.000000          0.000000   \n",
       "25%             0.000000          0.000000          0.000000   \n",
       "50%             0.000000          0.000000          0.000000   \n",
       "75%             0.000000          0.000000          1.000000   \n",
       "max            42.000000         76.000000         21.000000   \n",
       "\n",
       "       number_diagnoses      change_No  diabetesMed_Yes     readmitted  \n",
       "count     101766.000000  101766.000000    101766.000000  101766.000000  \n",
       "mean           7.422607       0.538048         0.770031       0.460881  \n",
       "std            1.933600       0.498553         0.420815       0.498470  \n",
       "min            1.000000       0.000000         0.000000       0.000000  \n",
       "25%            6.000000       0.000000         1.000000       0.000000  \n",
       "50%            8.000000       1.000000         1.000000       0.000000  \n",
       "75%            9.000000       1.000000         1.000000       1.000000  \n",
       "max           16.000000       1.000000         1.000000       1.000000  "
      ]
     },
     "execution_count": 5,
     "metadata": {},
     "output_type": "execute_result"
    }
   ],
   "source": [
    "df.describe()"
   ]
  },
  {
   "cell_type": "code",
   "execution_count": 6,
   "metadata": {},
   "outputs": [
    {
     "data": {
      "text/plain": [
       "(101766, 11)"
      ]
     },
     "execution_count": 6,
     "metadata": {},
     "output_type": "execute_result"
    }
   ],
   "source": [
    "df.shape"
   ]
  },
  {
   "cell_type": "markdown",
   "metadata": {},
   "source": [
    "### Standardize and Preprocessing"
   ]
  },
  {
   "cell_type": "code",
   "execution_count": 7,
   "metadata": {},
   "outputs": [],
   "source": [
    "X = df.iloc[:,0:10]\n",
    "y = df.iloc[:,10]"
   ]
  },
  {
   "cell_type": "code",
   "execution_count": 8,
   "metadata": {},
   "outputs": [],
   "source": [
    "scaler = StandardScaler()"
   ]
  },
  {
   "cell_type": "code",
   "execution_count": 9,
   "metadata": {},
   "outputs": [],
   "source": [
    "X_scaled = scaler.fit_transform(X)"
   ]
  },
  {
   "cell_type": "code",
   "execution_count": 10,
   "metadata": {},
   "outputs": [
    {
     "data": {
      "text/plain": [
       "array([[-1.13764856, -0.10651686, -0.78539774, ..., -3.3215959 ,\n",
       "         0.92659052, -1.82986799],\n",
       "       [ 1.87733278,  0.65590042,  0.38707362, ...,  0.81578448,\n",
       "        -1.07922537,  0.54648751],\n",
       "       [ 1.54233485,  0.91003951,  1.55954498, ...,  0.81578448,\n",
       "        -1.07922537,  0.54648751],\n",
       "       ...,\n",
       "       [ 0.53734107,  0.91003951, -0.19916206, ...,  0.81578448,\n",
       "         0.92659052,  0.54648751],\n",
       "       [ 1.54233485,  0.09679441,  2.73201634, ...,  0.81578448,\n",
       "         0.92659052, -1.82986799],\n",
       "       [-0.46765271,  1.06252297, -0.19916206, ...,  0.81578448,\n",
       "        -1.07922537,  0.54648751]])"
      ]
     },
     "execution_count": 10,
     "metadata": {},
     "output_type": "execute_result"
    }
   ],
   "source": [
    "X_scaled"
   ]
  },
  {
   "cell_type": "code",
   "execution_count": 11,
   "metadata": {},
   "outputs": [],
   "source": [
    "X_scaled_df = pd.DataFrame(X_scaled,columns=X.columns)"
   ]
  },
  {
   "cell_type": "code",
   "execution_count": 12,
   "metadata": {},
   "outputs": [
    {
     "data": {
      "text/html": [
       "<div>\n",
       "<style scoped>\n",
       "    .dataframe tbody tr th:only-of-type {\n",
       "        vertical-align: middle;\n",
       "    }\n",
       "\n",
       "    .dataframe tbody tr th {\n",
       "        vertical-align: top;\n",
       "    }\n",
       "\n",
       "    .dataframe thead th {\n",
       "        text-align: right;\n",
       "    }\n",
       "</style>\n",
       "<table border=\"1\" class=\"dataframe\">\n",
       "  <thead>\n",
       "    <tr style=\"text-align: right;\">\n",
       "      <th></th>\n",
       "      <th>time_in_hospital</th>\n",
       "      <th>num_lab_procedures</th>\n",
       "      <th>num_procedures</th>\n",
       "      <th>num_medications</th>\n",
       "      <th>number_outpatient</th>\n",
       "      <th>number_emergency</th>\n",
       "      <th>number_inpatient</th>\n",
       "      <th>number_diagnoses</th>\n",
       "      <th>change_No</th>\n",
       "      <th>diabetesMed_Yes</th>\n",
       "    </tr>\n",
       "  </thead>\n",
       "  <tbody>\n",
       "    <tr>\n",
       "      <th>0</th>\n",
       "      <td>-1.137649</td>\n",
       "      <td>-0.106517</td>\n",
       "      <td>-0.785398</td>\n",
       "      <td>-1.848268</td>\n",
       "      <td>-0.291461</td>\n",
       "      <td>-0.21262</td>\n",
       "      <td>-0.503276</td>\n",
       "      <td>-3.321596</td>\n",
       "      <td>0.926591</td>\n",
       "      <td>-1.829868</td>\n",
       "    </tr>\n",
       "    <tr>\n",
       "      <th>1</th>\n",
       "      <td>1.877333</td>\n",
       "      <td>0.655900</td>\n",
       "      <td>0.387074</td>\n",
       "      <td>0.981622</td>\n",
       "      <td>-0.291461</td>\n",
       "      <td>-0.21262</td>\n",
       "      <td>-0.503276</td>\n",
       "      <td>0.815784</td>\n",
       "      <td>-1.079225</td>\n",
       "      <td>0.546488</td>\n",
       "    </tr>\n",
       "    <tr>\n",
       "      <th>2</th>\n",
       "      <td>1.542335</td>\n",
       "      <td>0.910040</td>\n",
       "      <td>1.559545</td>\n",
       "      <td>1.104660</td>\n",
       "      <td>-0.291461</td>\n",
       "      <td>-0.21262</td>\n",
       "      <td>-0.503276</td>\n",
       "      <td>0.815784</td>\n",
       "      <td>-1.079225</td>\n",
       "      <td>0.546488</td>\n",
       "    </tr>\n",
       "    <tr>\n",
       "      <th>3</th>\n",
       "      <td>2.212331</td>\n",
       "      <td>1.265834</td>\n",
       "      <td>-0.785398</td>\n",
       "      <td>1.104660</td>\n",
       "      <td>-0.291461</td>\n",
       "      <td>-0.21262</td>\n",
       "      <td>-0.503276</td>\n",
       "      <td>0.815784</td>\n",
       "      <td>-1.079225</td>\n",
       "      <td>0.546488</td>\n",
       "    </tr>\n",
       "    <tr>\n",
       "      <th>4</th>\n",
       "      <td>0.537341</td>\n",
       "      <td>0.198450</td>\n",
       "      <td>0.387074</td>\n",
       "      <td>-0.371804</td>\n",
       "      <td>-0.291461</td>\n",
       "      <td>-0.21262</td>\n",
       "      <td>-0.503276</td>\n",
       "      <td>0.298612</td>\n",
       "      <td>0.926591</td>\n",
       "      <td>-1.829868</td>\n",
       "    </tr>\n",
       "    <tr>\n",
       "      <th>...</th>\n",
       "      <td>...</td>\n",
       "      <td>...</td>\n",
       "      <td>...</td>\n",
       "      <td>...</td>\n",
       "      <td>...</td>\n",
       "      <td>...</td>\n",
       "      <td>...</td>\n",
       "      <td>...</td>\n",
       "      <td>...</td>\n",
       "      <td>...</td>\n",
       "    </tr>\n",
       "    <tr>\n",
       "      <th>101761</th>\n",
       "      <td>-1.137649</td>\n",
       "      <td>-2.139630</td>\n",
       "      <td>0.387074</td>\n",
       "      <td>-1.356113</td>\n",
       "      <td>-0.291461</td>\n",
       "      <td>-0.21262</td>\n",
       "      <td>-0.503276</td>\n",
       "      <td>-0.218561</td>\n",
       "      <td>0.926591</td>\n",
       "      <td>0.546488</td>\n",
       "    </tr>\n",
       "    <tr>\n",
       "      <th>101762</th>\n",
       "      <td>-0.132655</td>\n",
       "      <td>1.164179</td>\n",
       "      <td>-0.785398</td>\n",
       "      <td>-0.002688</td>\n",
       "      <td>-0.291461</td>\n",
       "      <td>-0.21262</td>\n",
       "      <td>-0.503276</td>\n",
       "      <td>0.815784</td>\n",
       "      <td>0.926591</td>\n",
       "      <td>-1.829868</td>\n",
       "    </tr>\n",
       "    <tr>\n",
       "      <th>101763</th>\n",
       "      <td>0.537341</td>\n",
       "      <td>0.910040</td>\n",
       "      <td>-0.199162</td>\n",
       "      <td>-0.248765</td>\n",
       "      <td>-0.291461</td>\n",
       "      <td>-0.21262</td>\n",
       "      <td>-0.503276</td>\n",
       "      <td>0.815784</td>\n",
       "      <td>0.926591</td>\n",
       "      <td>0.546488</td>\n",
       "    </tr>\n",
       "    <tr>\n",
       "      <th>101764</th>\n",
       "      <td>1.542335</td>\n",
       "      <td>0.096794</td>\n",
       "      <td>2.732016</td>\n",
       "      <td>0.858583</td>\n",
       "      <td>-0.291461</td>\n",
       "      <td>-0.21262</td>\n",
       "      <td>-0.503276</td>\n",
       "      <td>0.815784</td>\n",
       "      <td>0.926591</td>\n",
       "      <td>-1.829868</td>\n",
       "    </tr>\n",
       "    <tr>\n",
       "      <th>101765</th>\n",
       "      <td>-0.467653</td>\n",
       "      <td>1.062523</td>\n",
       "      <td>-0.199162</td>\n",
       "      <td>-0.125726</td>\n",
       "      <td>-0.291461</td>\n",
       "      <td>-0.21262</td>\n",
       "      <td>-0.503276</td>\n",
       "      <td>0.815784</td>\n",
       "      <td>-1.079225</td>\n",
       "      <td>0.546488</td>\n",
       "    </tr>\n",
       "  </tbody>\n",
       "</table>\n",
       "<p>101766 rows × 10 columns</p>\n",
       "</div>"
      ],
      "text/plain": [
       "        time_in_hospital  num_lab_procedures  num_procedures  num_medications  \\\n",
       "0              -1.137649           -0.106517       -0.785398        -1.848268   \n",
       "1               1.877333            0.655900        0.387074         0.981622   \n",
       "2               1.542335            0.910040        1.559545         1.104660   \n",
       "3               2.212331            1.265834       -0.785398         1.104660   \n",
       "4               0.537341            0.198450        0.387074        -0.371804   \n",
       "...                  ...                 ...             ...              ...   \n",
       "101761         -1.137649           -2.139630        0.387074        -1.356113   \n",
       "101762         -0.132655            1.164179       -0.785398        -0.002688   \n",
       "101763          0.537341            0.910040       -0.199162        -0.248765   \n",
       "101764          1.542335            0.096794        2.732016         0.858583   \n",
       "101765         -0.467653            1.062523       -0.199162        -0.125726   \n",
       "\n",
       "        number_outpatient  number_emergency  number_inpatient  \\\n",
       "0               -0.291461          -0.21262         -0.503276   \n",
       "1               -0.291461          -0.21262         -0.503276   \n",
       "2               -0.291461          -0.21262         -0.503276   \n",
       "3               -0.291461          -0.21262         -0.503276   \n",
       "4               -0.291461          -0.21262         -0.503276   \n",
       "...                   ...               ...               ...   \n",
       "101761          -0.291461          -0.21262         -0.503276   \n",
       "101762          -0.291461          -0.21262         -0.503276   \n",
       "101763          -0.291461          -0.21262         -0.503276   \n",
       "101764          -0.291461          -0.21262         -0.503276   \n",
       "101765          -0.291461          -0.21262         -0.503276   \n",
       "\n",
       "        number_diagnoses  change_No  diabetesMed_Yes  \n",
       "0              -3.321596   0.926591        -1.829868  \n",
       "1               0.815784  -1.079225         0.546488  \n",
       "2               0.815784  -1.079225         0.546488  \n",
       "3               0.815784  -1.079225         0.546488  \n",
       "4               0.298612   0.926591        -1.829868  \n",
       "...                  ...        ...              ...  \n",
       "101761         -0.218561   0.926591         0.546488  \n",
       "101762          0.815784   0.926591        -1.829868  \n",
       "101763          0.815784   0.926591         0.546488  \n",
       "101764          0.815784   0.926591        -1.829868  \n",
       "101765          0.815784  -1.079225         0.546488  \n",
       "\n",
       "[101766 rows x 10 columns]"
      ]
     },
     "execution_count": 12,
     "metadata": {},
     "output_type": "execute_result"
    }
   ],
   "source": [
    "X_scaled_df"
   ]
  },
  {
   "cell_type": "code",
   "execution_count": 13,
   "metadata": {},
   "outputs": [],
   "source": [
    "label = df['readmitted']"
   ]
  },
  {
   "cell_type": "code",
   "execution_count": 14,
   "metadata": {},
   "outputs": [
    {
     "data": {
      "text/plain": [
       "0         0\n",
       "1         1\n",
       "2         0\n",
       "3         1\n",
       "4         0\n",
       "         ..\n",
       "101761    0\n",
       "101762    0\n",
       "101763    0\n",
       "101764    0\n",
       "101765    0\n",
       "Name: readmitted, Length: 101766, dtype: int64"
      ]
     },
     "execution_count": 14,
     "metadata": {},
     "output_type": "execute_result"
    }
   ],
   "source": [
    "label"
   ]
  },
  {
   "cell_type": "code",
   "execution_count": 15,
   "metadata": {},
   "outputs": [],
   "source": [
    "df2 = pd.concat([X_scaled_df,label],axis=1)"
   ]
  },
  {
   "cell_type": "code",
   "execution_count": 16,
   "metadata": {},
   "outputs": [
    {
     "data": {
      "text/html": [
       "<div>\n",
       "<style scoped>\n",
       "    .dataframe tbody tr th:only-of-type {\n",
       "        vertical-align: middle;\n",
       "    }\n",
       "\n",
       "    .dataframe tbody tr th {\n",
       "        vertical-align: top;\n",
       "    }\n",
       "\n",
       "    .dataframe thead th {\n",
       "        text-align: right;\n",
       "    }\n",
       "</style>\n",
       "<table border=\"1\" class=\"dataframe\">\n",
       "  <thead>\n",
       "    <tr style=\"text-align: right;\">\n",
       "      <th></th>\n",
       "      <th>time_in_hospital</th>\n",
       "      <th>num_lab_procedures</th>\n",
       "      <th>num_procedures</th>\n",
       "      <th>num_medications</th>\n",
       "      <th>number_outpatient</th>\n",
       "      <th>number_emergency</th>\n",
       "      <th>number_inpatient</th>\n",
       "      <th>number_diagnoses</th>\n",
       "      <th>change_No</th>\n",
       "      <th>diabetesMed_Yes</th>\n",
       "      <th>readmitted</th>\n",
       "    </tr>\n",
       "  </thead>\n",
       "  <tbody>\n",
       "    <tr>\n",
       "      <th>0</th>\n",
       "      <td>-1.137649</td>\n",
       "      <td>-0.106517</td>\n",
       "      <td>-0.785398</td>\n",
       "      <td>-1.848268</td>\n",
       "      <td>-0.291461</td>\n",
       "      <td>-0.21262</td>\n",
       "      <td>-0.503276</td>\n",
       "      <td>-3.321596</td>\n",
       "      <td>0.926591</td>\n",
       "      <td>-1.829868</td>\n",
       "      <td>0</td>\n",
       "    </tr>\n",
       "    <tr>\n",
       "      <th>1</th>\n",
       "      <td>1.877333</td>\n",
       "      <td>0.655900</td>\n",
       "      <td>0.387074</td>\n",
       "      <td>0.981622</td>\n",
       "      <td>-0.291461</td>\n",
       "      <td>-0.21262</td>\n",
       "      <td>-0.503276</td>\n",
       "      <td>0.815784</td>\n",
       "      <td>-1.079225</td>\n",
       "      <td>0.546488</td>\n",
       "      <td>1</td>\n",
       "    </tr>\n",
       "    <tr>\n",
       "      <th>2</th>\n",
       "      <td>1.542335</td>\n",
       "      <td>0.910040</td>\n",
       "      <td>1.559545</td>\n",
       "      <td>1.104660</td>\n",
       "      <td>-0.291461</td>\n",
       "      <td>-0.21262</td>\n",
       "      <td>-0.503276</td>\n",
       "      <td>0.815784</td>\n",
       "      <td>-1.079225</td>\n",
       "      <td>0.546488</td>\n",
       "      <td>0</td>\n",
       "    </tr>\n",
       "    <tr>\n",
       "      <th>3</th>\n",
       "      <td>2.212331</td>\n",
       "      <td>1.265834</td>\n",
       "      <td>-0.785398</td>\n",
       "      <td>1.104660</td>\n",
       "      <td>-0.291461</td>\n",
       "      <td>-0.21262</td>\n",
       "      <td>-0.503276</td>\n",
       "      <td>0.815784</td>\n",
       "      <td>-1.079225</td>\n",
       "      <td>0.546488</td>\n",
       "      <td>1</td>\n",
       "    </tr>\n",
       "    <tr>\n",
       "      <th>4</th>\n",
       "      <td>0.537341</td>\n",
       "      <td>0.198450</td>\n",
       "      <td>0.387074</td>\n",
       "      <td>-0.371804</td>\n",
       "      <td>-0.291461</td>\n",
       "      <td>-0.21262</td>\n",
       "      <td>-0.503276</td>\n",
       "      <td>0.298612</td>\n",
       "      <td>0.926591</td>\n",
       "      <td>-1.829868</td>\n",
       "      <td>0</td>\n",
       "    </tr>\n",
       "    <tr>\n",
       "      <th>...</th>\n",
       "      <td>...</td>\n",
       "      <td>...</td>\n",
       "      <td>...</td>\n",
       "      <td>...</td>\n",
       "      <td>...</td>\n",
       "      <td>...</td>\n",
       "      <td>...</td>\n",
       "      <td>...</td>\n",
       "      <td>...</td>\n",
       "      <td>...</td>\n",
       "      <td>...</td>\n",
       "    </tr>\n",
       "    <tr>\n",
       "      <th>101761</th>\n",
       "      <td>-1.137649</td>\n",
       "      <td>-2.139630</td>\n",
       "      <td>0.387074</td>\n",
       "      <td>-1.356113</td>\n",
       "      <td>-0.291461</td>\n",
       "      <td>-0.21262</td>\n",
       "      <td>-0.503276</td>\n",
       "      <td>-0.218561</td>\n",
       "      <td>0.926591</td>\n",
       "      <td>0.546488</td>\n",
       "      <td>0</td>\n",
       "    </tr>\n",
       "    <tr>\n",
       "      <th>101762</th>\n",
       "      <td>-0.132655</td>\n",
       "      <td>1.164179</td>\n",
       "      <td>-0.785398</td>\n",
       "      <td>-0.002688</td>\n",
       "      <td>-0.291461</td>\n",
       "      <td>-0.21262</td>\n",
       "      <td>-0.503276</td>\n",
       "      <td>0.815784</td>\n",
       "      <td>0.926591</td>\n",
       "      <td>-1.829868</td>\n",
       "      <td>0</td>\n",
       "    </tr>\n",
       "    <tr>\n",
       "      <th>101763</th>\n",
       "      <td>0.537341</td>\n",
       "      <td>0.910040</td>\n",
       "      <td>-0.199162</td>\n",
       "      <td>-0.248765</td>\n",
       "      <td>-0.291461</td>\n",
       "      <td>-0.21262</td>\n",
       "      <td>-0.503276</td>\n",
       "      <td>0.815784</td>\n",
       "      <td>0.926591</td>\n",
       "      <td>0.546488</td>\n",
       "      <td>0</td>\n",
       "    </tr>\n",
       "    <tr>\n",
       "      <th>101764</th>\n",
       "      <td>1.542335</td>\n",
       "      <td>0.096794</td>\n",
       "      <td>2.732016</td>\n",
       "      <td>0.858583</td>\n",
       "      <td>-0.291461</td>\n",
       "      <td>-0.21262</td>\n",
       "      <td>-0.503276</td>\n",
       "      <td>0.815784</td>\n",
       "      <td>0.926591</td>\n",
       "      <td>-1.829868</td>\n",
       "      <td>0</td>\n",
       "    </tr>\n",
       "    <tr>\n",
       "      <th>101765</th>\n",
       "      <td>-0.467653</td>\n",
       "      <td>1.062523</td>\n",
       "      <td>-0.199162</td>\n",
       "      <td>-0.125726</td>\n",
       "      <td>-0.291461</td>\n",
       "      <td>-0.21262</td>\n",
       "      <td>-0.503276</td>\n",
       "      <td>0.815784</td>\n",
       "      <td>-1.079225</td>\n",
       "      <td>0.546488</td>\n",
       "      <td>0</td>\n",
       "    </tr>\n",
       "  </tbody>\n",
       "</table>\n",
       "<p>101766 rows × 11 columns</p>\n",
       "</div>"
      ],
      "text/plain": [
       "        time_in_hospital  num_lab_procedures  num_procedures  num_medications  \\\n",
       "0              -1.137649           -0.106517       -0.785398        -1.848268   \n",
       "1               1.877333            0.655900        0.387074         0.981622   \n",
       "2               1.542335            0.910040        1.559545         1.104660   \n",
       "3               2.212331            1.265834       -0.785398         1.104660   \n",
       "4               0.537341            0.198450        0.387074        -0.371804   \n",
       "...                  ...                 ...             ...              ...   \n",
       "101761         -1.137649           -2.139630        0.387074        -1.356113   \n",
       "101762         -0.132655            1.164179       -0.785398        -0.002688   \n",
       "101763          0.537341            0.910040       -0.199162        -0.248765   \n",
       "101764          1.542335            0.096794        2.732016         0.858583   \n",
       "101765         -0.467653            1.062523       -0.199162        -0.125726   \n",
       "\n",
       "        number_outpatient  number_emergency  number_inpatient  \\\n",
       "0               -0.291461          -0.21262         -0.503276   \n",
       "1               -0.291461          -0.21262         -0.503276   \n",
       "2               -0.291461          -0.21262         -0.503276   \n",
       "3               -0.291461          -0.21262         -0.503276   \n",
       "4               -0.291461          -0.21262         -0.503276   \n",
       "...                   ...               ...               ...   \n",
       "101761          -0.291461          -0.21262         -0.503276   \n",
       "101762          -0.291461          -0.21262         -0.503276   \n",
       "101763          -0.291461          -0.21262         -0.503276   \n",
       "101764          -0.291461          -0.21262         -0.503276   \n",
       "101765          -0.291461          -0.21262         -0.503276   \n",
       "\n",
       "        number_diagnoses  change_No  diabetesMed_Yes  readmitted  \n",
       "0              -3.321596   0.926591        -1.829868           0  \n",
       "1               0.815784  -1.079225         0.546488           1  \n",
       "2               0.815784  -1.079225         0.546488           0  \n",
       "3               0.815784  -1.079225         0.546488           1  \n",
       "4               0.298612   0.926591        -1.829868           0  \n",
       "...                  ...        ...              ...         ...  \n",
       "101761         -0.218561   0.926591         0.546488           0  \n",
       "101762          0.815784   0.926591        -1.829868           0  \n",
       "101763          0.815784   0.926591         0.546488           0  \n",
       "101764          0.815784   0.926591        -1.829868           0  \n",
       "101765          0.815784  -1.079225         0.546488           0  \n",
       "\n",
       "[101766 rows x 11 columns]"
      ]
     },
     "execution_count": 16,
     "metadata": {},
     "output_type": "execute_result"
    }
   ],
   "source": [
    "df2"
   ]
  },
  {
   "cell_type": "code",
   "execution_count": 17,
   "metadata": {},
   "outputs": [],
   "source": [
    "#Save to csv\n",
    "#df2.to_csv(\"train2.csv\",index=False)"
   ]
  },
  {
   "cell_type": "markdown",
   "metadata": {},
   "source": [
    "### Train a Classification Model and Determine Feature Importance"
   ]
  },
  {
   "cell_type": "code",
   "execution_count": 18,
   "metadata": {},
   "outputs": [],
   "source": [
    "X = df2.iloc[:,0:10]\n",
    "y = df2.iloc[:,10]"
   ]
  },
  {
   "cell_type": "code",
   "execution_count": 19,
   "metadata": {},
   "outputs": [
    {
     "data": {
      "text/plain": [
       "(array([[-1.13764856, -0.10651686, -0.78539774, ..., -3.3215959 ,\n",
       "          0.92659052, -1.82986799],\n",
       "        [ 1.87733278,  0.65590042,  0.38707362, ...,  0.81578448,\n",
       "         -1.07922537,  0.54648751],\n",
       "        [ 1.54233485,  0.91003951,  1.55954498, ...,  0.81578448,\n",
       "         -1.07922537,  0.54648751],\n",
       "        ...,\n",
       "        [ 0.53734107,  0.91003951, -0.19916206, ...,  0.81578448,\n",
       "          0.92659052,  0.54648751],\n",
       "        [ 1.54233485,  0.09679441,  2.73201634, ...,  0.81578448,\n",
       "          0.92659052, -1.82986799],\n",
       "        [-0.46765271,  1.06252297, -0.19916206, ...,  0.81578448,\n",
       "         -1.07922537,  0.54648751]]),\n",
       " array([0, 1, 0, ..., 0, 0, 0], dtype=int64))"
      ]
     },
     "execution_count": 19,
     "metadata": {},
     "output_type": "execute_result"
    }
   ],
   "source": [
    "X.values, y.values"
   ]
  },
  {
   "cell_type": "code",
   "execution_count": 20,
   "metadata": {},
   "outputs": [],
   "source": [
    "X_train, X_test, y_train, y_test = train_test_split(X, y, test_size=0.4, random_state=123)"
   ]
  },
  {
   "cell_type": "code",
   "execution_count": 21,
   "metadata": {},
   "outputs": [
    {
     "data": {
      "text/plain": [
       "((61059, 10), (40707, 10))"
      ]
     },
     "execution_count": 21,
     "metadata": {},
     "output_type": "execute_result"
    }
   ],
   "source": [
    "X_train.shape, X_test.shape"
   ]
  },
  {
   "cell_type": "code",
   "execution_count": 22,
   "metadata": {},
   "outputs": [],
   "source": [
    "xgb = XGBClassifier(random_state=123, n_estimators=100, objective='binary:logistic')"
   ]
  },
  {
   "cell_type": "code",
   "execution_count": 23,
   "metadata": {},
   "outputs": [
    {
     "name": "stdout",
     "output_type": "stream",
     "text": [
      "[0]\tvalidation_0-error:0.383398\n",
      "Will train until validation_0-error hasn't improved in 20 rounds.\n",
      "[1]\tvalidation_0-error:0.384406\n",
      "[2]\tvalidation_0-error:0.383398\n",
      "[3]\tvalidation_0-error:0.384356\n",
      "[4]\tvalidation_0-error:0.383398\n",
      "[5]\tvalidation_0-error:0.383448\n",
      "[6]\tvalidation_0-error:0.383251\n",
      "[7]\tvalidation_0-error:0.3833\n",
      "[8]\tvalidation_0-error:0.384332\n",
      "[9]\tvalidation_0-error:0.382907\n",
      "[10]\tvalidation_0-error:0.382883\n",
      "[11]\tvalidation_0-error:0.384332\n",
      "[12]\tvalidation_0-error:0.382932\n",
      "[13]\tvalidation_0-error:0.382981\n",
      "[14]\tvalidation_0-error:0.382907\n",
      "[15]\tvalidation_0-error:0.381875\n",
      "[16]\tvalidation_0-error:0.382047\n",
      "[17]\tvalidation_0-error:0.38163\n",
      "[18]\tvalidation_0-error:0.380107\n",
      "[19]\tvalidation_0-error:0.380082\n",
      "[20]\tvalidation_0-error:0.380549\n",
      "[21]\tvalidation_0-error:0.380279\n",
      "[22]\tvalidation_0-error:0.379247\n",
      "[23]\tvalidation_0-error:0.379542\n",
      "[24]\tvalidation_0-error:0.379149\n",
      "[25]\tvalidation_0-error:0.379222\n",
      "[26]\tvalidation_0-error:0.379443\n",
      "[27]\tvalidation_0-error:0.379689\n",
      "[28]\tvalidation_0-error:0.379198\n",
      "[29]\tvalidation_0-error:0.378657\n",
      "[30]\tvalidation_0-error:0.378584\n",
      "[31]\tvalidation_0-error:0.378387\n",
      "[32]\tvalidation_0-error:0.37819\n",
      "[33]\tvalidation_0-error:0.378068\n",
      "[34]\tvalidation_0-error:0.378117\n",
      "[35]\tvalidation_0-error:0.378092\n",
      "[36]\tvalidation_0-error:0.378092\n",
      "[37]\tvalidation_0-error:0.378166\n",
      "[38]\tvalidation_0-error:0.378215\n",
      "[39]\tvalidation_0-error:0.378387\n",
      "[40]\tvalidation_0-error:0.378166\n",
      "[41]\tvalidation_0-error:0.378068\n",
      "[42]\tvalidation_0-error:0.37819\n",
      "[43]\tvalidation_0-error:0.378313\n",
      "[44]\tvalidation_0-error:0.37819\n",
      "[45]\tvalidation_0-error:0.37819\n",
      "[46]\tvalidation_0-error:0.378117\n",
      "[47]\tvalidation_0-error:0.378019\n",
      "[48]\tvalidation_0-error:0.378043\n",
      "[49]\tvalidation_0-error:0.378117\n",
      "[50]\tvalidation_0-error:0.378043\n",
      "[51]\tvalidation_0-error:0.377994\n",
      "[52]\tvalidation_0-error:0.377871\n",
      "[53]\tvalidation_0-error:0.377871\n",
      "[54]\tvalidation_0-error:0.378141\n",
      "[55]\tvalidation_0-error:0.378215\n",
      "[56]\tvalidation_0-error:0.378461\n",
      "[57]\tvalidation_0-error:0.378829\n",
      "[58]\tvalidation_0-error:0.378977\n",
      "[59]\tvalidation_0-error:0.378829\n",
      "[60]\tvalidation_0-error:0.378584\n",
      "[61]\tvalidation_0-error:0.378559\n",
      "[62]\tvalidation_0-error:0.378412\n",
      "[63]\tvalidation_0-error:0.378362\n",
      "[64]\tvalidation_0-error:0.378584\n",
      "[65]\tvalidation_0-error:0.378338\n",
      "[66]\tvalidation_0-error:0.378338\n",
      "[67]\tvalidation_0-error:0.378534\n",
      "[68]\tvalidation_0-error:0.378362\n",
      "[69]\tvalidation_0-error:0.378362\n",
      "[70]\tvalidation_0-error:0.378412\n",
      "[71]\tvalidation_0-error:0.378534\n",
      "[72]\tvalidation_0-error:0.378534\n",
      "Stopping. Best iteration:\n",
      "[52]\tvalidation_0-error:0.377871\n",
      "\n"
     ]
    },
    {
     "data": {
      "text/plain": [
       "XGBClassifier(base_score=0.5, booster='gbtree', colsample_bylevel=1,\n",
       "              colsample_bynode=1, colsample_bytree=1, gamma=0,\n",
       "              learning_rate=0.1, max_delta_step=0, max_depth=3,\n",
       "              min_child_weight=1, missing=None, n_estimators=100, n_jobs=1,\n",
       "              nthread=None, objective='binary:logistic', random_state=123,\n",
       "              reg_alpha=0, reg_lambda=1, scale_pos_weight=1, seed=None,\n",
       "              silent=None, subsample=1, verbosity=1)"
      ]
     },
     "execution_count": 23,
     "metadata": {},
     "output_type": "execute_result"
    }
   ],
   "source": [
    "xgb.fit(X_train,y_train,eval_set=[(X_test,y_test)],eval_metric='error',early_stopping_rounds=20)"
   ]
  },
  {
   "cell_type": "code",
   "execution_count": 24,
   "metadata": {},
   "outputs": [
    {
     "data": {
      "image/png": "[encoded data removed]",
      "text/plain": [
       "<Figure size 864x648 with 1 Axes>"
      ]
     },
     "metadata": {
      "needs_background": "light"
     },
     "output_type": "display_data"
    }
   ],
   "source": [
    "fig, ax = plt.subplots(figsize=(12,9))\n",
    "plot_importance(booster=xgb,ax=ax,importance_type='gain')\n",
    "plt.show()"
   ]
  },
  {
   "cell_type": "code",
   "execution_count": 25,
   "metadata": {},
   "outputs": [],
   "source": [
    "y_pred = xgb.predict(X_test)"
   ]
  },
  {
   "cell_type": "code",
   "execution_count": 26,
   "metadata": {},
   "outputs": [
    {
     "data": {
      "text/plain": [
       "array([0, 0, 0, ..., 0, 0, 0], dtype=int64)"
      ]
     },
     "execution_count": 26,
     "metadata": {},
     "output_type": "execute_result"
    }
   ],
   "source": [
    "y_pred"
   ]
  },
  {
   "cell_type": "code",
   "execution_count": 27,
   "metadata": {},
   "outputs": [
    {
     "data": {
      "image/png": "[encoded data removed]",
      "text/plain": [
       "<Figure size 432x288 with 2 Axes>"
      ]
     },
     "metadata": {
      "needs_background": "light"
     },
     "output_type": "display_data"
    }
   ],
   "source": [
    "plot_confusion_matrix(xgb,X_test,y_test,values_format='.5g')\n",
    "plt.show()"
   ]
  },
  {
   "cell_type": "code",
   "execution_count": 28,
   "metadata": {},
   "outputs": [
    {
     "name": "stdout",
     "output_type": "stream",
     "text": [
      "              precision    recall  f1-score   support\n",
      "\n",
      "           0       0.62      0.75      0.68     21974\n",
      "           1       0.62      0.47      0.53     18733\n",
      "\n",
      "    accuracy                           0.62     40707\n",
      "   macro avg       0.62      0.61      0.61     40707\n",
      "weighted avg       0.62      0.62      0.61     40707\n",
      "\n"
     ]
    }
   ],
   "source": [
    "print(classification_report(y_test,y_pred))"
   ]
  },
  {
   "cell_type": "code",
   "execution_count": 29,
   "metadata": {},
   "outputs": [
    {
     "data": {
      "image/png": "[encoded data removed]",
      "text/plain": [
       "<Figure size 432x288 with 1 Axes>"
      ]
     },
     "metadata": {
      "needs_background": "light"
     },
     "output_type": "display_data"
    }
   ],
   "source": [
    "plot_roc_curve(xgb,X_test,y_test)\n",
    "plt.show()"
   ]
  },
  {
   "cell_type": "markdown",
   "metadata": {},
   "source": [
    "### Prune Features and Measure Results"
   ]
  },
  {
   "cell_type": "code",
   "execution_count": 30,
   "metadata": {},
   "outputs": [],
   "source": [
    "df2 = pd.read_csv(\"train2.csv\")"
   ]
  },
  {
   "cell_type": "code",
   "execution_count": 31,
   "metadata": {},
   "outputs": [
    {
     "data": {
      "text/html": [
       "<div>\n",
       "<style scoped>\n",
       "    .dataframe tbody tr th:only-of-type {\n",
       "        vertical-align: middle;\n",
       "    }\n",
       "\n",
       "    .dataframe tbody tr th {\n",
       "        vertical-align: top;\n",
       "    }\n",
       "\n",
       "    .dataframe thead th {\n",
       "        text-align: right;\n",
       "    }\n",
       "</style>\n",
       "<table border=\"1\" class=\"dataframe\">\n",
       "  <thead>\n",
       "    <tr style=\"text-align: right;\">\n",
       "      <th></th>\n",
       "      <th>time_in_hospital</th>\n",
       "      <th>num_lab_procedures</th>\n",
       "      <th>num_procedures</th>\n",
       "      <th>num_medications</th>\n",
       "      <th>number_outpatient</th>\n",
       "      <th>number_emergency</th>\n",
       "      <th>number_inpatient</th>\n",
       "      <th>number_diagnoses</th>\n",
       "      <th>change_No</th>\n",
       "      <th>diabetesMed_Yes</th>\n",
       "      <th>readmitted</th>\n",
       "    </tr>\n",
       "  </thead>\n",
       "  <tbody>\n",
       "    <tr>\n",
       "      <th>0</th>\n",
       "      <td>-1.137649</td>\n",
       "      <td>-0.106517</td>\n",
       "      <td>-0.785398</td>\n",
       "      <td>-1.848268</td>\n",
       "      <td>-0.291461</td>\n",
       "      <td>-0.21262</td>\n",
       "      <td>-0.503276</td>\n",
       "      <td>-3.321596</td>\n",
       "      <td>0.926591</td>\n",
       "      <td>-1.829868</td>\n",
       "      <td>0</td>\n",
       "    </tr>\n",
       "    <tr>\n",
       "      <th>1</th>\n",
       "      <td>1.877333</td>\n",
       "      <td>0.655900</td>\n",
       "      <td>0.387074</td>\n",
       "      <td>0.981622</td>\n",
       "      <td>-0.291461</td>\n",
       "      <td>-0.21262</td>\n",
       "      <td>-0.503276</td>\n",
       "      <td>0.815784</td>\n",
       "      <td>-1.079225</td>\n",
       "      <td>0.546488</td>\n",
       "      <td>1</td>\n",
       "    </tr>\n",
       "    <tr>\n",
       "      <th>2</th>\n",
       "      <td>1.542335</td>\n",
       "      <td>0.910040</td>\n",
       "      <td>1.559545</td>\n",
       "      <td>1.104660</td>\n",
       "      <td>-0.291461</td>\n",
       "      <td>-0.21262</td>\n",
       "      <td>-0.503276</td>\n",
       "      <td>0.815784</td>\n",
       "      <td>-1.079225</td>\n",
       "      <td>0.546488</td>\n",
       "      <td>0</td>\n",
       "    </tr>\n",
       "    <tr>\n",
       "      <th>3</th>\n",
       "      <td>2.212331</td>\n",
       "      <td>1.265834</td>\n",
       "      <td>-0.785398</td>\n",
       "      <td>1.104660</td>\n",
       "      <td>-0.291461</td>\n",
       "      <td>-0.21262</td>\n",
       "      <td>-0.503276</td>\n",
       "      <td>0.815784</td>\n",
       "      <td>-1.079225</td>\n",
       "      <td>0.546488</td>\n",
       "      <td>1</td>\n",
       "    </tr>\n",
       "    <tr>\n",
       "      <th>4</th>\n",
       "      <td>0.537341</td>\n",
       "      <td>0.198450</td>\n",
       "      <td>0.387074</td>\n",
       "      <td>-0.371804</td>\n",
       "      <td>-0.291461</td>\n",
       "      <td>-0.21262</td>\n",
       "      <td>-0.503276</td>\n",
       "      <td>0.298612</td>\n",
       "      <td>0.926591</td>\n",
       "      <td>-1.829868</td>\n",
       "      <td>0</td>\n",
       "    </tr>\n",
       "    <tr>\n",
       "      <th>...</th>\n",
       "      <td>...</td>\n",
       "      <td>...</td>\n",
       "      <td>...</td>\n",
       "      <td>...</td>\n",
       "      <td>...</td>\n",
       "      <td>...</td>\n",
       "      <td>...</td>\n",
       "      <td>...</td>\n",
       "      <td>...</td>\n",
       "      <td>...</td>\n",
       "      <td>...</td>\n",
       "    </tr>\n",
       "    <tr>\n",
       "      <th>101761</th>\n",
       "      <td>-1.137649</td>\n",
       "      <td>-2.139630</td>\n",
       "      <td>0.387074</td>\n",
       "      <td>-1.356113</td>\n",
       "      <td>-0.291461</td>\n",
       "      <td>-0.21262</td>\n",
       "      <td>-0.503276</td>\n",
       "      <td>-0.218561</td>\n",
       "      <td>0.926591</td>\n",
       "      <td>0.546488</td>\n",
       "      <td>0</td>\n",
       "    </tr>\n",
       "    <tr>\n",
       "      <th>101762</th>\n",
       "      <td>-0.132655</td>\n",
       "      <td>1.164179</td>\n",
       "      <td>-0.785398</td>\n",
       "      <td>-0.002688</td>\n",
       "      <td>-0.291461</td>\n",
       "      <td>-0.21262</td>\n",
       "      <td>-0.503276</td>\n",
       "      <td>0.815784</td>\n",
       "      <td>0.926591</td>\n",
       "      <td>-1.829868</td>\n",
       "      <td>0</td>\n",
       "    </tr>\n",
       "    <tr>\n",
       "      <th>101763</th>\n",
       "      <td>0.537341</td>\n",
       "      <td>0.910040</td>\n",
       "      <td>-0.199162</td>\n",
       "      <td>-0.248765</td>\n",
       "      <td>-0.291461</td>\n",
       "      <td>-0.21262</td>\n",
       "      <td>-0.503276</td>\n",
       "      <td>0.815784</td>\n",
       "      <td>0.926591</td>\n",
       "      <td>0.546488</td>\n",
       "      <td>0</td>\n",
       "    </tr>\n",
       "    <tr>\n",
       "      <th>101764</th>\n",
       "      <td>1.542335</td>\n",
       "      <td>0.096794</td>\n",
       "      <td>2.732016</td>\n",
       "      <td>0.858583</td>\n",
       "      <td>-0.291461</td>\n",
       "      <td>-0.21262</td>\n",
       "      <td>-0.503276</td>\n",
       "      <td>0.815784</td>\n",
       "      <td>0.926591</td>\n",
       "      <td>-1.829868</td>\n",
       "      <td>0</td>\n",
       "    </tr>\n",
       "    <tr>\n",
       "      <th>101765</th>\n",
       "      <td>-0.467653</td>\n",
       "      <td>1.062523</td>\n",
       "      <td>-0.199162</td>\n",
       "      <td>-0.125726</td>\n",
       "      <td>-0.291461</td>\n",
       "      <td>-0.21262</td>\n",
       "      <td>-0.503276</td>\n",
       "      <td>0.815784</td>\n",
       "      <td>-1.079225</td>\n",
       "      <td>0.546488</td>\n",
       "      <td>0</td>\n",
       "    </tr>\n",
       "  </tbody>\n",
       "</table>\n",
       "<p>101766 rows × 11 columns</p>\n",
       "</div>"
      ],
      "text/plain": [
       "        time_in_hospital  num_lab_procedures  num_procedures  num_medications  \\\n",
       "0              -1.137649           -0.106517       -0.785398        -1.848268   \n",
       "1               1.877333            0.655900        0.387074         0.981622   \n",
       "2               1.542335            0.910040        1.559545         1.104660   \n",
       "3               2.212331            1.265834       -0.785398         1.104660   \n",
       "4               0.537341            0.198450        0.387074        -0.371804   \n",
       "...                  ...                 ...             ...              ...   \n",
       "101761         -1.137649           -2.139630        0.387074        -1.356113   \n",
       "101762         -0.132655            1.164179       -0.785398        -0.002688   \n",
       "101763          0.537341            0.910040       -0.199162        -0.248765   \n",
       "101764          1.542335            0.096794        2.732016         0.858583   \n",
       "101765         -0.467653            1.062523       -0.199162        -0.125726   \n",
       "\n",
       "        number_outpatient  number_emergency  number_inpatient  \\\n",
       "0               -0.291461          -0.21262         -0.503276   \n",
       "1               -0.291461          -0.21262         -0.503276   \n",
       "2               -0.291461          -0.21262         -0.503276   \n",
       "3               -0.291461          -0.21262         -0.503276   \n",
       "4               -0.291461          -0.21262         -0.503276   \n",
       "...                   ...               ...               ...   \n",
       "101761          -0.291461          -0.21262         -0.503276   \n",
       "101762          -0.291461          -0.21262         -0.503276   \n",
       "101763          -0.291461          -0.21262         -0.503276   \n",
       "101764          -0.291461          -0.21262         -0.503276   \n",
       "101765          -0.291461          -0.21262         -0.503276   \n",
       "\n",
       "        number_diagnoses  change_No  diabetesMed_Yes  readmitted  \n",
       "0              -3.321596   0.926591        -1.829868           0  \n",
       "1               0.815784  -1.079225         0.546488           1  \n",
       "2               0.815784  -1.079225         0.546488           0  \n",
       "3               0.815784  -1.079225         0.546488           1  \n",
       "4               0.298612   0.926591        -1.829868           0  \n",
       "...                  ...        ...              ...         ...  \n",
       "101761         -0.218561   0.926591         0.546488           0  \n",
       "101762          0.815784   0.926591        -1.829868           0  \n",
       "101763          0.815784   0.926591         0.546488           0  \n",
       "101764          0.815784   0.926591        -1.829868           0  \n",
       "101765          0.815784  -1.079225         0.546488           0  \n",
       "\n",
       "[101766 rows x 11 columns]"
      ]
     },
     "execution_count": 31,
     "metadata": {},
     "output_type": "execute_result"
    }
   ],
   "source": [
    "df2"
   ]
  },
  {
   "cell_type": "code",
   "execution_count": 32,
   "metadata": {},
   "outputs": [],
   "source": [
    "df3 = df2[['number_outpatient', 'number_emergency', 'number_inpatient', 'number_diagnoses', 'diabetesMed_Yes','readmitted']]"
   ]
  },
  {
   "cell_type": "code",
   "execution_count": 33,
   "metadata": {},
   "outputs": [
    {
     "data": {
      "text/html": [
       "<div>\n",
       "<style scoped>\n",
       "    .dataframe tbody tr th:only-of-type {\n",
       "        vertical-align: middle;\n",
       "    }\n",
       "\n",
       "    .dataframe tbody tr th {\n",
       "        vertical-align: top;\n",
       "    }\n",
       "\n",
       "    .dataframe thead th {\n",
       "        text-align: right;\n",
       "    }\n",
       "</style>\n",
       "<table border=\"1\" class=\"dataframe\">\n",
       "  <thead>\n",
       "    <tr style=\"text-align: right;\">\n",
       "      <th></th>\n",
       "      <th>number_outpatient</th>\n",
       "      <th>number_emergency</th>\n",
       "      <th>number_inpatient</th>\n",
       "      <th>number_diagnoses</th>\n",
       "      <th>diabetesMed_Yes</th>\n",
       "      <th>readmitted</th>\n",
       "    </tr>\n",
       "  </thead>\n",
       "  <tbody>\n",
       "    <tr>\n",
       "      <th>0</th>\n",
       "      <td>-0.291461</td>\n",
       "      <td>-0.21262</td>\n",
       "      <td>-0.503276</td>\n",
       "      <td>-3.321596</td>\n",
       "      <td>-1.829868</td>\n",
       "      <td>0</td>\n",
       "    </tr>\n",
       "    <tr>\n",
       "      <th>1</th>\n",
       "      <td>-0.291461</td>\n",
       "      <td>-0.21262</td>\n",
       "      <td>-0.503276</td>\n",
       "      <td>0.815784</td>\n",
       "      <td>0.546488</td>\n",
       "      <td>1</td>\n",
       "    </tr>\n",
       "    <tr>\n",
       "      <th>2</th>\n",
       "      <td>-0.291461</td>\n",
       "      <td>-0.21262</td>\n",
       "      <td>-0.503276</td>\n",
       "      <td>0.815784</td>\n",
       "      <td>0.546488</td>\n",
       "      <td>0</td>\n",
       "    </tr>\n",
       "    <tr>\n",
       "      <th>3</th>\n",
       "      <td>-0.291461</td>\n",
       "      <td>-0.21262</td>\n",
       "      <td>-0.503276</td>\n",
       "      <td>0.815784</td>\n",
       "      <td>0.546488</td>\n",
       "      <td>1</td>\n",
       "    </tr>\n",
       "    <tr>\n",
       "      <th>4</th>\n",
       "      <td>-0.291461</td>\n",
       "      <td>-0.21262</td>\n",
       "      <td>-0.503276</td>\n",
       "      <td>0.298612</td>\n",
       "      <td>-1.829868</td>\n",
       "      <td>0</td>\n",
       "    </tr>\n",
       "    <tr>\n",
       "      <th>...</th>\n",
       "      <td>...</td>\n",
       "      <td>...</td>\n",
       "      <td>...</td>\n",
       "      <td>...</td>\n",
       "      <td>...</td>\n",
       "      <td>...</td>\n",
       "    </tr>\n",
       "    <tr>\n",
       "      <th>101761</th>\n",
       "      <td>-0.291461</td>\n",
       "      <td>-0.21262</td>\n",
       "      <td>-0.503276</td>\n",
       "      <td>-0.218561</td>\n",
       "      <td>0.546488</td>\n",
       "      <td>0</td>\n",
       "    </tr>\n",
       "    <tr>\n",
       "      <th>101762</th>\n",
       "      <td>-0.291461</td>\n",
       "      <td>-0.21262</td>\n",
       "      <td>-0.503276</td>\n",
       "      <td>0.815784</td>\n",
       "      <td>-1.829868</td>\n",
       "      <td>0</td>\n",
       "    </tr>\n",
       "    <tr>\n",
       "      <th>101763</th>\n",
       "      <td>-0.291461</td>\n",
       "      <td>-0.21262</td>\n",
       "      <td>-0.503276</td>\n",
       "      <td>0.815784</td>\n",
       "      <td>0.546488</td>\n",
       "      <td>0</td>\n",
       "    </tr>\n",
       "    <tr>\n",
       "      <th>101764</th>\n",
       "      <td>-0.291461</td>\n",
       "      <td>-0.21262</td>\n",
       "      <td>-0.503276</td>\n",
       "      <td>0.815784</td>\n",
       "      <td>-1.829868</td>\n",
       "      <td>0</td>\n",
       "    </tr>\n",
       "    <tr>\n",
       "      <th>101765</th>\n",
       "      <td>-0.291461</td>\n",
       "      <td>-0.21262</td>\n",
       "      <td>-0.503276</td>\n",
       "      <td>0.815784</td>\n",
       "      <td>0.546488</td>\n",
       "      <td>0</td>\n",
       "    </tr>\n",
       "  </tbody>\n",
       "</table>\n",
       "<p>101766 rows × 6 columns</p>\n",
       "</div>"
      ],
      "text/plain": [
       "        number_outpatient  number_emergency  number_inpatient  \\\n",
       "0               -0.291461          -0.21262         -0.503276   \n",
       "1               -0.291461          -0.21262         -0.503276   \n",
       "2               -0.291461          -0.21262         -0.503276   \n",
       "3               -0.291461          -0.21262         -0.503276   \n",
       "4               -0.291461          -0.21262         -0.503276   \n",
       "...                   ...               ...               ...   \n",
       "101761          -0.291461          -0.21262         -0.503276   \n",
       "101762          -0.291461          -0.21262         -0.503276   \n",
       "101763          -0.291461          -0.21262         -0.503276   \n",
       "101764          -0.291461          -0.21262         -0.503276   \n",
       "101765          -0.291461          -0.21262         -0.503276   \n",
       "\n",
       "        number_diagnoses  diabetesMed_Yes  readmitted  \n",
       "0              -3.321596        -1.829868           0  \n",
       "1               0.815784         0.546488           1  \n",
       "2               0.815784         0.546488           0  \n",
       "3               0.815784         0.546488           1  \n",
       "4               0.298612        -1.829868           0  \n",
       "...                  ...              ...         ...  \n",
       "101761         -0.218561         0.546488           0  \n",
       "101762          0.815784        -1.829868           0  \n",
       "101763          0.815784         0.546488           0  \n",
       "101764          0.815784        -1.829868           0  \n",
       "101765          0.815784         0.546488           0  \n",
       "\n",
       "[101766 rows x 6 columns]"
      ]
     },
     "execution_count": 33,
     "metadata": {},
     "output_type": "execute_result"
    }
   ],
   "source": [
    "df3"
   ]
  },
  {
   "cell_type": "code",
   "execution_count": 34,
   "metadata": {},
   "outputs": [],
   "source": [
    "X = df3.iloc[:,0:5]\n",
    "y = df3.iloc[:,5]"
   ]
  },
  {
   "cell_type": "code",
   "execution_count": 35,
   "metadata": {},
   "outputs": [
    {
     "data": {
      "text/plain": [
       "(array([[-0.29146149, -0.21262018, -0.50327619, -3.3215959 , -1.82986799],\n",
       "        [-0.29146149, -0.21262018, -0.50327619,  0.81578448,  0.54648751],\n",
       "        [-0.29146149, -0.21262018, -0.50327619,  0.81578448,  0.54648751],\n",
       "        ...,\n",
       "        [-0.29146149, -0.21262018, -0.50327619,  0.81578448,  0.54648751],\n",
       "        [-0.29146149, -0.21262018, -0.50327619,  0.81578448, -1.82986799],\n",
       "        [-0.29146149, -0.21262018, -0.50327619,  0.81578448,  0.54648751]]),\n",
       " array([0, 1, 0, ..., 0, 0, 0], dtype=int64))"
      ]
     },
     "execution_count": 35,
     "metadata": {},
     "output_type": "execute_result"
    }
   ],
   "source": [
    "X.values, y.values"
   ]
  },
  {
   "cell_type": "code",
   "execution_count": 36,
   "metadata": {},
   "outputs": [],
   "source": [
    "X_train, X_test, y_train, y_test = train_test_split(X, y, test_size=0.4, random_state=123)"
   ]
  },
  {
   "cell_type": "code",
   "execution_count": 37,
   "metadata": {},
   "outputs": [
    {
     "data": {
      "text/plain": [
       "((61059, 5), (40707, 5))"
      ]
     },
     "execution_count": 37,
     "metadata": {},
     "output_type": "execute_result"
    }
   ],
   "source": [
    "X_train.shape, X_test.shape"
   ]
  },
  {
   "cell_type": "code",
   "execution_count": 38,
   "metadata": {},
   "outputs": [],
   "source": [
    "xgb = XGBClassifier(random_state=123, n_estimators=100, objective='binary:logistic')"
   ]
  },
  {
   "cell_type": "code",
   "execution_count": 39,
   "metadata": {},
   "outputs": [
    {
     "name": "stdout",
     "output_type": "stream",
     "text": [
      "[0]\tvalidation_0-error:0.383398\n",
      "Will train until validation_0-error hasn't improved in 20 rounds.\n",
      "[1]\tvalidation_0-error:0.384406\n",
      "[2]\tvalidation_0-error:0.383398\n",
      "[3]\tvalidation_0-error:0.384356\n",
      "[4]\tvalidation_0-error:0.383398\n",
      "[5]\tvalidation_0-error:0.383448\n",
      "[6]\tvalidation_0-error:0.383251\n",
      "[7]\tvalidation_0-error:0.383374\n",
      "[8]\tvalidation_0-error:0.384406\n",
      "[9]\tvalidation_0-error:0.384332\n",
      "[10]\tvalidation_0-error:0.383521\n",
      "[11]\tvalidation_0-error:0.383521\n",
      "[12]\tvalidation_0-error:0.383521\n",
      "[13]\tvalidation_0-error:0.383521\n",
      "[14]\tvalidation_0-error:0.383276\n",
      "[15]\tvalidation_0-error:0.383276\n",
      "[16]\tvalidation_0-error:0.382096\n",
      "[17]\tvalidation_0-error:0.382096\n",
      "[18]\tvalidation_0-error:0.3833\n",
      "[19]\tvalidation_0-error:0.380401\n",
      "[20]\tvalidation_0-error:0.380401\n",
      "[21]\tvalidation_0-error:0.380401\n",
      "[22]\tvalidation_0-error:0.380401\n",
      "[23]\tvalidation_0-error:0.380401\n",
      "[24]\tvalidation_0-error:0.380794\n",
      "[25]\tvalidation_0-error:0.380966\n",
      "[26]\tvalidation_0-error:0.380893\n",
      "[27]\tvalidation_0-error:0.381016\n",
      "[28]\tvalidation_0-error:0.380942\n",
      "[29]\tvalidation_0-error:0.380942\n",
      "[30]\tvalidation_0-error:0.38077\n",
      "[31]\tvalidation_0-error:0.380549\n",
      "[32]\tvalidation_0-error:0.3805\n",
      "[33]\tvalidation_0-error:0.380549\n",
      "[34]\tvalidation_0-error:0.3805\n",
      "[35]\tvalidation_0-error:0.380549\n",
      "[36]\tvalidation_0-error:0.380598\n",
      "[37]\tvalidation_0-error:0.380672\n",
      "[38]\tvalidation_0-error:0.380672\n",
      "[39]\tvalidation_0-error:0.380672\n",
      "Stopping. Best iteration:\n",
      "[19]\tvalidation_0-error:0.380401\n",
      "\n"
     ]
    },
    {
     "data": {
      "text/plain": [
       "XGBClassifier(base_score=0.5, booster='gbtree', colsample_bylevel=1,\n",
       "              colsample_bynode=1, colsample_bytree=1, gamma=0,\n",
       "              learning_rate=0.1, max_delta_step=0, max_depth=3,\n",
       "              min_child_weight=1, missing=None, n_estimators=100, n_jobs=1,\n",
       "              nthread=None, objective='binary:logistic', random_state=123,\n",
       "              reg_alpha=0, reg_lambda=1, scale_pos_weight=1, seed=None,\n",
       "              silent=None, subsample=1, verbosity=1)"
      ]
     },
     "execution_count": 39,
     "metadata": {},
     "output_type": "execute_result"
    }
   ],
   "source": [
    "xgb.fit(X_train,y_train,eval_set=[(X_test,y_test)],eval_metric='error',early_stopping_rounds=20)"
   ]
  },
  {
   "cell_type": "code",
   "execution_count": 40,
   "metadata": {},
   "outputs": [],
   "source": [
    "y_pred = xgb.predict(X_test)"
   ]
  },
  {
   "cell_type": "code",
   "execution_count": 41,
   "metadata": {},
   "outputs": [
    {
     "data": {
      "text/plain": [
       "array([0, 0, 0, ..., 0, 0, 0], dtype=int64)"
      ]
     },
     "execution_count": 41,
     "metadata": {},
     "output_type": "execute_result"
    }
   ],
   "source": [
    "y_pred"
   ]
  },
  {
   "cell_type": "code",
   "execution_count": 42,
   "metadata": {},
   "outputs": [
    {
     "data": {
      "image/png": "[encoded data removed]",
      "text/plain": [
       "<Figure size 432x288 with 1 Axes>"
      ]
     },
     "metadata": {
      "needs_background": "light"
     },
     "output_type": "display_data"
    }
   ],
   "source": [
    "plot_roc_curve(xgb,X_test,y_test)\n",
    "plt.show()"
   ]
  },
  {
   "cell_type": "markdown",
   "metadata": {},
   "source": [
    "### After completing the iterative feature selection process, what was the effect on the AUC metric for the model?\n",
    "\n",
    "\n",
    "It stayed the same\n"
   ]
  },
  {
   "cell_type": "markdown",
   "metadata": {},
   "source": [
    "### Configure Hyperparameter Tuning"
   ]
  },
  {
   "cell_type": "code",
   "execution_count": 43,
   "metadata": {},
   "outputs": [
    {
     "data": {
      "text/plain": [
       "((61059, 5), (40707, 5))"
      ]
     },
     "execution_count": 43,
     "metadata": {},
     "output_type": "execute_result"
    }
   ],
   "source": [
    "X_train.shape, X_test.shape"
   ]
  },
  {
   "cell_type": "code",
   "execution_count": 44,
   "metadata": {},
   "outputs": [],
   "source": [
    "hyper = XGBClassifier(learning_rate=0.3,max_depth=6,random_state=123, n_estimators=100, objective='binary:logistic')"
   ]
  },
  {
   "cell_type": "code",
   "execution_count": 45,
   "metadata": {},
   "outputs": [
    {
     "name": "stdout",
     "output_type": "stream",
     "text": [
      "[0]\tvalidation_0-error:0.381802\n",
      "Will train until validation_0-error hasn't improved in 20 rounds.\n",
      "[1]\tvalidation_0-error:0.381753\n",
      "[2]\tvalidation_0-error:0.380966\n",
      "[3]\tvalidation_0-error:0.380745\n",
      "[4]\tvalidation_0-error:0.381286\n",
      "[5]\tvalidation_0-error:0.38131\n",
      "[6]\tvalidation_0-error:0.381409\n",
      "[7]\tvalidation_0-error:0.381384\n",
      "[8]\tvalidation_0-error:0.381409\n",
      "[9]\tvalidation_0-error:0.381531\n",
      "[10]\tvalidation_0-error:0.381163\n",
      "[11]\tvalidation_0-error:0.381187\n",
      "[12]\tvalidation_0-error:0.381138\n",
      "[13]\tvalidation_0-error:0.381138\n",
      "[14]\tvalidation_0-error:0.381409\n",
      "[15]\tvalidation_0-error:0.381359\n",
      "[16]\tvalidation_0-error:0.38131\n",
      "[17]\tvalidation_0-error:0.381359\n",
      "[18]\tvalidation_0-error:0.381409\n",
      "[19]\tvalidation_0-error:0.381359\n",
      "[20]\tvalidation_0-error:0.381286\n",
      "[21]\tvalidation_0-error:0.38131\n",
      "[22]\tvalidation_0-error:0.38131\n",
      "[23]\tvalidation_0-error:0.381384\n",
      "Stopping. Best iteration:\n",
      "[3]\tvalidation_0-error:0.380745\n",
      "\n"
     ]
    },
    {
     "data": {
      "text/plain": [
       "XGBClassifier(base_score=0.5, booster='gbtree', colsample_bylevel=1,\n",
       "              colsample_bynode=1, colsample_bytree=1, gamma=0,\n",
       "              learning_rate=0.3, max_delta_step=0, max_depth=6,\n",
       "              min_child_weight=1, missing=None, n_estimators=100, n_jobs=1,\n",
       "              nthread=None, objective='binary:logistic', random_state=123,\n",
       "              reg_alpha=0, reg_lambda=1, scale_pos_weight=1, seed=None,\n",
       "              silent=None, subsample=1, verbosity=1)"
      ]
     },
     "execution_count": 45,
     "metadata": {},
     "output_type": "execute_result"
    }
   ],
   "source": [
    "hyper.fit(X_train,y_train,eval_set=[(X_test,y_test)],eval_metric='error',early_stopping_rounds=20)"
   ]
  },
  {
   "cell_type": "code",
   "execution_count": 46,
   "metadata": {},
   "outputs": [],
   "source": [
    "y_pred = hyper.predict(X_test)"
   ]
  },
  {
   "cell_type": "code",
   "execution_count": 47,
   "metadata": {},
   "outputs": [
    {
     "data": {
      "text/plain": [
       "array([0, 0, 0, ..., 0, 0, 0], dtype=int64)"
      ]
     },
     "execution_count": 47,
     "metadata": {},
     "output_type": "execute_result"
    }
   ],
   "source": [
    "y_pred"
   ]
  },
  {
   "cell_type": "code",
   "execution_count": 48,
   "metadata": {},
   "outputs": [
    {
     "data": {
      "image/png": "[encoded data removed]",
      "text/plain": [
       "<Figure size 432x288 with 1 Axes>"
      ]
     },
     "metadata": {
      "needs_background": "light"
     },
     "output_type": "display_data"
    }
   ],
   "source": [
    "plot_roc_curve(hyper,X_test,y_test)\n",
    "plt.show()"
   ]
  },
  {
   "cell_type": "markdown",
   "metadata": {},
   "source": [
    "### Configure Cross Validation"
   ]
  },
  {
   "cell_type": "code",
   "execution_count": 49,
   "metadata": {},
   "outputs": [
    {
     "name": "stderr",
     "output_type": "stream",
     "text": [
      "[Parallel(n_jobs=4)]: Using backend LokyBackend with 4 concurrent workers.\n",
      "[Parallel(n_jobs=4)]: Done   5 out of   5 | elapsed:   13.9s finished\n"
     ]
    }
   ],
   "source": [
    "cross = cross_val_score(hyper,X,y,scoring='roc_auc',cv=5,verbose=1,n_jobs=4)"
   ]
  },
  {
   "cell_type": "code",
   "execution_count": 50,
   "metadata": {},
   "outputs": [
    {
     "data": {
      "text/plain": [
       "0.6512926810550098"
      ]
     },
     "execution_count": 50,
     "metadata": {},
     "output_type": "execute_result"
    }
   ],
   "source": [
    "cross.mean()"
   ]
  },
  {
   "cell_type": "code",
   "execution_count": null,
   "metadata": {},
   "outputs": [],
   "source": []
  }
 ],
 "metadata": {
  "kernelspec": {
   "display_name": "Python 3",
   "language": "python",
   "name": "python3"
  },
  "language_info": {
   "codemirror_mode": {
    "name": "ipython",
    "version": 3
   },
   "file_extension": ".py",
   "mimetype": "text/x-python",
   "name": "python",
   "nbconvert_exporter": "python",
   "pygments_lexer": "ipython3",
   "version": "3.7.6"
  }
 },
 "nbformat": 4,
 "nbformat_minor": 4
}
