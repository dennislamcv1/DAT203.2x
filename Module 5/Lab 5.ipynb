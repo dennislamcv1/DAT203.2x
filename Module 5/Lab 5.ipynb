{
 "cells": [
  {
   "cell_type": "code",
   "execution_count": 1,
   "metadata": {},
   "outputs": [
    {
     "name": "stderr",
     "output_type": "stream",
     "text": [
      "Using TensorFlow backend.\n"
     ]
    }
   ],
   "source": [
    "import numpy as np\n",
    "import pandas as pd\n",
    "import matplotlib.pyplot as plt\n",
    "import seaborn as sns\n",
    "import sklearn\n",
    "\n",
    "import xgboost as xgb\n",
    "from xgboost import XGBClassifier, XGBRegressor\n",
    "from xgboost import to_graphviz, plot_importance\n",
    "\n",
    "from sklearn.experimental import enable_hist_gradient_boosting\n",
    "from sklearn.ensemble import _hist_gradient_boosting\n",
    "from sklearn.ensemble import HistGradientBoostingRegressor, HistGradientBoostingRegressor\n",
    "%matplotlib inline\n",
    "\n",
    "from sklearn.model_selection import cross_val_score, train_test_split, GridSearchCV, RandomizedSearchCV\n",
    "from sklearn.preprocessing import LabelEncoder, StandardScaler, MinMaxScaler\n",
    "from sklearn.metrics import confusion_matrix, classification_report, mean_absolute_error, mean_squared_error,r2_score\n",
    "from sklearn.metrics import plot_confusion_matrix, plot_precision_recall_curve, plot_roc_curve\n",
    "\n",
    "import keras\n",
    "from keras.models import save_model, Sequential\n",
    "from keras.layers import Activation, BatchNormalization, Dense, Dropout\n",
    "from keras.optimizers import Adam\n",
    "from keras.callbacks import EarlyStopping, ModelCheckpoint\n",
    "\n",
    "pd.options.display.max_columns= None\n",
    "#pd.options.display.max_rows = None"
   ]
  },
  {
   "cell_type": "code",
   "execution_count": 2,
   "metadata": {},
   "outputs": [],
   "source": [
    "df = pd.read_csv(\"train2.csv\",low_memory=False)"
   ]
  },
  {
   "cell_type": "code",
   "execution_count": 3,
   "metadata": {},
   "outputs": [
    {
     "data": {
      "text/html": [
       "<div>\n",
       "<style scoped>\n",
       "    .dataframe tbody tr th:only-of-type {\n",
       "        vertical-align: middle;\n",
       "    }\n",
       "\n",
       "    .dataframe tbody tr th {\n",
       "        vertical-align: top;\n",
       "    }\n",
       "\n",
       "    .dataframe thead th {\n",
       "        text-align: right;\n",
       "    }\n",
       "</style>\n",
       "<table border=\"1\" class=\"dataframe\">\n",
       "  <thead>\n",
       "    <tr style=\"text-align: right;\">\n",
       "      <th></th>\n",
       "      <th>time_in_hospital</th>\n",
       "      <th>num_lab_procedures</th>\n",
       "      <th>num_procedures</th>\n",
       "      <th>num_medications</th>\n",
       "      <th>number_outpatient</th>\n",
       "      <th>number_emergency</th>\n",
       "      <th>number_inpatient</th>\n",
       "      <th>number_diagnoses</th>\n",
       "      <th>change_No</th>\n",
       "      <th>diabetesMed_Yes</th>\n",
       "      <th>readmitted</th>\n",
       "    </tr>\n",
       "  </thead>\n",
       "  <tbody>\n",
       "    <tr>\n",
       "      <th>0</th>\n",
       "      <td>-1.137649</td>\n",
       "      <td>-0.106517</td>\n",
       "      <td>-0.785398</td>\n",
       "      <td>-1.848268</td>\n",
       "      <td>-0.291461</td>\n",
       "      <td>-0.21262</td>\n",
       "      <td>-0.503276</td>\n",
       "      <td>-3.321596</td>\n",
       "      <td>0.926591</td>\n",
       "      <td>-1.829868</td>\n",
       "      <td>0</td>\n",
       "    </tr>\n",
       "    <tr>\n",
       "      <th>1</th>\n",
       "      <td>1.877333</td>\n",
       "      <td>0.655900</td>\n",
       "      <td>0.387074</td>\n",
       "      <td>0.981622</td>\n",
       "      <td>-0.291461</td>\n",
       "      <td>-0.21262</td>\n",
       "      <td>-0.503276</td>\n",
       "      <td>0.815784</td>\n",
       "      <td>-1.079225</td>\n",
       "      <td>0.546488</td>\n",
       "      <td>1</td>\n",
       "    </tr>\n",
       "    <tr>\n",
       "      <th>2</th>\n",
       "      <td>1.542335</td>\n",
       "      <td>0.910040</td>\n",
       "      <td>1.559545</td>\n",
       "      <td>1.104660</td>\n",
       "      <td>-0.291461</td>\n",
       "      <td>-0.21262</td>\n",
       "      <td>-0.503276</td>\n",
       "      <td>0.815784</td>\n",
       "      <td>-1.079225</td>\n",
       "      <td>0.546488</td>\n",
       "      <td>0</td>\n",
       "    </tr>\n",
       "    <tr>\n",
       "      <th>3</th>\n",
       "      <td>2.212331</td>\n",
       "      <td>1.265834</td>\n",
       "      <td>-0.785398</td>\n",
       "      <td>1.104660</td>\n",
       "      <td>-0.291461</td>\n",
       "      <td>-0.21262</td>\n",
       "      <td>-0.503276</td>\n",
       "      <td>0.815784</td>\n",
       "      <td>-1.079225</td>\n",
       "      <td>0.546488</td>\n",
       "      <td>1</td>\n",
       "    </tr>\n",
       "    <tr>\n",
       "      <th>4</th>\n",
       "      <td>0.537341</td>\n",
       "      <td>0.198450</td>\n",
       "      <td>0.387074</td>\n",
       "      <td>-0.371804</td>\n",
       "      <td>-0.291461</td>\n",
       "      <td>-0.21262</td>\n",
       "      <td>-0.503276</td>\n",
       "      <td>0.298612</td>\n",
       "      <td>0.926591</td>\n",
       "      <td>-1.829868</td>\n",
       "      <td>0</td>\n",
       "    </tr>\n",
       "    <tr>\n",
       "      <th>...</th>\n",
       "      <td>...</td>\n",
       "      <td>...</td>\n",
       "      <td>...</td>\n",
       "      <td>...</td>\n",
       "      <td>...</td>\n",
       "      <td>...</td>\n",
       "      <td>...</td>\n",
       "      <td>...</td>\n",
       "      <td>...</td>\n",
       "      <td>...</td>\n",
       "      <td>...</td>\n",
       "    </tr>\n",
       "    <tr>\n",
       "      <th>101761</th>\n",
       "      <td>-1.137649</td>\n",
       "      <td>-2.139630</td>\n",
       "      <td>0.387074</td>\n",
       "      <td>-1.356113</td>\n",
       "      <td>-0.291461</td>\n",
       "      <td>-0.21262</td>\n",
       "      <td>-0.503276</td>\n",
       "      <td>-0.218561</td>\n",
       "      <td>0.926591</td>\n",
       "      <td>0.546488</td>\n",
       "      <td>0</td>\n",
       "    </tr>\n",
       "    <tr>\n",
       "      <th>101762</th>\n",
       "      <td>-0.132655</td>\n",
       "      <td>1.164179</td>\n",
       "      <td>-0.785398</td>\n",
       "      <td>-0.002688</td>\n",
       "      <td>-0.291461</td>\n",
       "      <td>-0.21262</td>\n",
       "      <td>-0.503276</td>\n",
       "      <td>0.815784</td>\n",
       "      <td>0.926591</td>\n",
       "      <td>-1.829868</td>\n",
       "      <td>0</td>\n",
       "    </tr>\n",
       "    <tr>\n",
       "      <th>101763</th>\n",
       "      <td>0.537341</td>\n",
       "      <td>0.910040</td>\n",
       "      <td>-0.199162</td>\n",
       "      <td>-0.248765</td>\n",
       "      <td>-0.291461</td>\n",
       "      <td>-0.21262</td>\n",
       "      <td>-0.503276</td>\n",
       "      <td>0.815784</td>\n",
       "      <td>0.926591</td>\n",
       "      <td>0.546488</td>\n",
       "      <td>0</td>\n",
       "    </tr>\n",
       "    <tr>\n",
       "      <th>101764</th>\n",
       "      <td>1.542335</td>\n",
       "      <td>0.096794</td>\n",
       "      <td>2.732016</td>\n",
       "      <td>0.858583</td>\n",
       "      <td>-0.291461</td>\n",
       "      <td>-0.21262</td>\n",
       "      <td>-0.503276</td>\n",
       "      <td>0.815784</td>\n",
       "      <td>0.926591</td>\n",
       "      <td>-1.829868</td>\n",
       "      <td>0</td>\n",
       "    </tr>\n",
       "    <tr>\n",
       "      <th>101765</th>\n",
       "      <td>-0.467653</td>\n",
       "      <td>1.062523</td>\n",
       "      <td>-0.199162</td>\n",
       "      <td>-0.125726</td>\n",
       "      <td>-0.291461</td>\n",
       "      <td>-0.21262</td>\n",
       "      <td>-0.503276</td>\n",
       "      <td>0.815784</td>\n",
       "      <td>-1.079225</td>\n",
       "      <td>0.546488</td>\n",
       "      <td>0</td>\n",
       "    </tr>\n",
       "  </tbody>\n",
       "</table>\n",
       "<p>101766 rows × 11 columns</p>\n",
       "</div>"
      ],
      "text/plain": [
       "        time_in_hospital  num_lab_procedures  num_procedures  num_medications  \\\n",
       "0              -1.137649           -0.106517       -0.785398        -1.848268   \n",
       "1               1.877333            0.655900        0.387074         0.981622   \n",
       "2               1.542335            0.910040        1.559545         1.104660   \n",
       "3               2.212331            1.265834       -0.785398         1.104660   \n",
       "4               0.537341            0.198450        0.387074        -0.371804   \n",
       "...                  ...                 ...             ...              ...   \n",
       "101761         -1.137649           -2.139630        0.387074        -1.356113   \n",
       "101762         -0.132655            1.164179       -0.785398        -0.002688   \n",
       "101763          0.537341            0.910040       -0.199162        -0.248765   \n",
       "101764          1.542335            0.096794        2.732016         0.858583   \n",
       "101765         -0.467653            1.062523       -0.199162        -0.125726   \n",
       "\n",
       "        number_outpatient  number_emergency  number_inpatient  \\\n",
       "0               -0.291461          -0.21262         -0.503276   \n",
       "1               -0.291461          -0.21262         -0.503276   \n",
       "2               -0.291461          -0.21262         -0.503276   \n",
       "3               -0.291461          -0.21262         -0.503276   \n",
       "4               -0.291461          -0.21262         -0.503276   \n",
       "...                   ...               ...               ...   \n",
       "101761          -0.291461          -0.21262         -0.503276   \n",
       "101762          -0.291461          -0.21262         -0.503276   \n",
       "101763          -0.291461          -0.21262         -0.503276   \n",
       "101764          -0.291461          -0.21262         -0.503276   \n",
       "101765          -0.291461          -0.21262         -0.503276   \n",
       "\n",
       "        number_diagnoses  change_No  diabetesMed_Yes  readmitted  \n",
       "0              -3.321596   0.926591        -1.829868           0  \n",
       "1               0.815784  -1.079225         0.546488           1  \n",
       "2               0.815784  -1.079225         0.546488           0  \n",
       "3               0.815784  -1.079225         0.546488           1  \n",
       "4               0.298612   0.926591        -1.829868           0  \n",
       "...                  ...        ...              ...         ...  \n",
       "101761         -0.218561   0.926591         0.546488           0  \n",
       "101762          0.815784   0.926591        -1.829868           0  \n",
       "101763          0.815784   0.926591         0.546488           0  \n",
       "101764          0.815784   0.926591        -1.829868           0  \n",
       "101765          0.815784  -1.079225         0.546488           0  \n",
       "\n",
       "[101766 rows x 11 columns]"
      ]
     },
     "execution_count": 3,
     "metadata": {},
     "output_type": "execute_result"
    }
   ],
   "source": [
    "df"
   ]
  },
  {
   "cell_type": "code",
   "execution_count": 4,
   "metadata": {},
   "outputs": [
    {
     "data": {
      "text/plain": [
       "(101766, 11)"
      ]
     },
     "execution_count": 4,
     "metadata": {},
     "output_type": "execute_result"
    }
   ],
   "source": [
    "df.shape"
   ]
  },
  {
   "cell_type": "markdown",
   "metadata": {},
   "source": [
    "### Train a Neural Model"
   ]
  },
  {
   "cell_type": "code",
   "execution_count": 5,
   "metadata": {},
   "outputs": [],
   "source": [
    "X = df.iloc[:,0:10]\n",
    "y = df.iloc[:,10]"
   ]
  },
  {
   "cell_type": "code",
   "execution_count": 6,
   "metadata": {},
   "outputs": [
    {
     "data": {
      "text/plain": [
       "(array([[-1.13764856, -0.10651686, -0.78539774, ..., -3.3215959 ,\n",
       "          0.92659052, -1.82986799],\n",
       "        [ 1.87733278,  0.65590042,  0.38707362, ...,  0.81578448,\n",
       "         -1.07922537,  0.54648751],\n",
       "        [ 1.54233485,  0.91003951,  1.55954498, ...,  0.81578448,\n",
       "         -1.07922537,  0.54648751],\n",
       "        ...,\n",
       "        [ 0.53734107,  0.91003951, -0.19916206, ...,  0.81578448,\n",
       "          0.92659052,  0.54648751],\n",
       "        [ 1.54233485,  0.09679441,  2.73201634, ...,  0.81578448,\n",
       "          0.92659052, -1.82986799],\n",
       "        [-0.46765271,  1.06252297, -0.19916206, ...,  0.81578448,\n",
       "         -1.07922537,  0.54648751]]),\n",
       " array([0, 1, 0, ..., 0, 0, 0], dtype=int64))"
      ]
     },
     "execution_count": 6,
     "metadata": {},
     "output_type": "execute_result"
    }
   ],
   "source": [
    "X.values, y.values"
   ]
  },
  {
   "cell_type": "code",
   "execution_count": 7,
   "metadata": {},
   "outputs": [],
   "source": [
    "X_train, X_test, y_train, y_test = train_test_split(X, y, test_size=0.2, random_state=0)"
   ]
  },
  {
   "cell_type": "code",
   "execution_count": 8,
   "metadata": {},
   "outputs": [
    {
     "data": {
      "text/plain": [
       "((81412, 10), (20354, 10), (81412,))"
      ]
     },
     "execution_count": 8,
     "metadata": {},
     "output_type": "execute_result"
    }
   ],
   "source": [
    "X_train.shape, X_test.shape, y_train.shape"
   ]
  },
  {
   "cell_type": "code",
   "execution_count": 9,
   "metadata": {},
   "outputs": [],
   "source": [
    "model = Sequential()\n",
    "\n",
    "model.add(Dense(32,activation='relu',input_shape=(10,)))\n",
    "model.add(Dropout(0.2))\n",
    "model.add(Dense(64,activation='relu'))\n",
    "model.add(Dropout(0.2))\n",
    "model.add(Dense(64,activation='relu'))\n",
    "model.add(Dropout(0.2))\n",
    "model.add(Dense(1,activation='sigmoid'))\n"
   ]
  },
  {
   "cell_type": "code",
   "execution_count": 10,
   "metadata": {},
   "outputs": [
    {
     "name": "stdout",
     "output_type": "stream",
     "text": [
      "Model: \"sequential_1\"\n",
      "_________________________________________________________________\n",
      "Layer (type)                 Output Shape              Param #   \n",
      "=================================================================\n",
      "dense_1 (Dense)              (None, 32)                352       \n",
      "_________________________________________________________________\n",
      "dropout_1 (Dropout)          (None, 32)                0         \n",
      "_________________________________________________________________\n",
      "dense_2 (Dense)              (None, 64)                2112      \n",
      "_________________________________________________________________\n",
      "dropout_2 (Dropout)          (None, 64)                0         \n",
      "_________________________________________________________________\n",
      "dense_3 (Dense)              (None, 64)                4160      \n",
      "_________________________________________________________________\n",
      "dropout_3 (Dropout)          (None, 64)                0         \n",
      "_________________________________________________________________\n",
      "dense_4 (Dense)              (None, 1)                 65        \n",
      "=================================================================\n",
      "Total params: 6,689\n",
      "Trainable params: 6,689\n",
      "Non-trainable params: 0\n",
      "_________________________________________________________________\n"
     ]
    }
   ],
   "source": [
    "model.summary()"
   ]
  },
  {
   "cell_type": "code",
   "execution_count": 11,
   "metadata": {},
   "outputs": [],
   "source": [
    "model.compile(optimizer='Adam',loss='binary_crossentropy',metrics=['accuracy'])"
   ]
  },
  {
   "cell_type": "code",
   "execution_count": 12,
   "metadata": {},
   "outputs": [],
   "source": [
    "cb = ModelCheckpoint(filepath='lab5a.h5',verbose=2,save_best_only=True)"
   ]
  },
  {
   "cell_type": "code",
   "execution_count": 13,
   "metadata": {},
   "outputs": [],
   "source": [
    "es = EarlyStopping(patience=20,verbose=2, restore_best_weights=True)"
   ]
  },
  {
   "cell_type": "code",
   "execution_count": 14,
   "metadata": {},
   "outputs": [
    {
     "name": "stdout",
     "output_type": "stream",
     "text": [
      "Train on 81412 samples, validate on 20354 samples\n",
      "Epoch 1/100\n",
      " - 2s - loss: 0.6663 - accuracy: 0.5947 - val_loss: 0.6541 - val_accuracy: 0.6141\n",
      "\n",
      "Epoch 00001: val_loss improved from inf to 0.65411, saving model to lab5a.h5\n",
      "Epoch 2/100\n",
      " - 1s - loss: 0.6572 - accuracy: 0.6124 - val_loss: 0.6524 - val_accuracy: 0.6165\n",
      "\n",
      "Epoch 00002: val_loss improved from 0.65411 to 0.65236, saving model to lab5a.h5\n",
      "Epoch 3/100\n",
      " - 1s - loss: 0.6543 - accuracy: 0.6157 - val_loss: 0.6532 - val_accuracy: 0.6183\n",
      "\n",
      "Epoch 00003: val_loss did not improve from 0.65236\n",
      "Epoch 4/100\n",
      " - 1s - loss: 0.6533 - accuracy: 0.6184 - val_loss: 0.6510 - val_accuracy: 0.6202\n",
      "\n",
      "Epoch 00004: val_loss improved from 0.65236 to 0.65100, saving model to lab5a.h5\n",
      "Epoch 5/100\n",
      " - 1s - loss: 0.6521 - accuracy: 0.6197 - val_loss: 0.6517 - val_accuracy: 0.6192\n",
      "\n",
      "Epoch 00005: val_loss did not improve from 0.65100\n",
      "Epoch 6/100\n",
      " - 1s - loss: 0.6521 - accuracy: 0.6204 - val_loss: 0.6516 - val_accuracy: 0.6206\n",
      "\n",
      "Epoch 00006: val_loss did not improve from 0.65100\n",
      "Epoch 7/100\n",
      " - 1s - loss: 0.6516 - accuracy: 0.6208 - val_loss: 0.6507 - val_accuracy: 0.6199\n",
      "\n",
      "Epoch 00007: val_loss improved from 0.65100 to 0.65067, saving model to lab5a.h5\n",
      "Epoch 8/100\n",
      " - 1s - loss: 0.6515 - accuracy: 0.6217 - val_loss: 0.6517 - val_accuracy: 0.6193\n",
      "\n",
      "Epoch 00008: val_loss did not improve from 0.65067\n",
      "Epoch 9/100\n",
      " - 1s - loss: 0.6511 - accuracy: 0.6223 - val_loss: 0.6515 - val_accuracy: 0.6189\n",
      "\n",
      "Epoch 00009: val_loss did not improve from 0.65067\n",
      "Epoch 10/100\n",
      " - 1s - loss: 0.6503 - accuracy: 0.6219 - val_loss: 0.6508 - val_accuracy: 0.6200\n",
      "\n",
      "Epoch 00010: val_loss did not improve from 0.65067\n",
      "Epoch 11/100\n",
      " - 1s - loss: 0.6503 - accuracy: 0.6231 - val_loss: 0.6512 - val_accuracy: 0.6205\n",
      "\n",
      "Epoch 00011: val_loss did not improve from 0.65067\n",
      "Epoch 12/100\n",
      " - 1s - loss: 0.6502 - accuracy: 0.6227 - val_loss: 0.6511 - val_accuracy: 0.6206\n",
      "\n",
      "Epoch 00012: val_loss did not improve from 0.65067\n",
      "Epoch 13/100\n",
      " - 2s - loss: 0.6500 - accuracy: 0.6220 - val_loss: 0.6511 - val_accuracy: 0.6202\n",
      "\n",
      "Epoch 00013: val_loss did not improve from 0.65067\n",
      "Epoch 14/100\n",
      " - 2s - loss: 0.6499 - accuracy: 0.6222 - val_loss: 0.6512 - val_accuracy: 0.6211\n",
      "\n",
      "Epoch 00014: val_loss did not improve from 0.65067\n",
      "Epoch 15/100\n",
      " - 1s - loss: 0.6492 - accuracy: 0.6224 - val_loss: 0.6497 - val_accuracy: 0.6199\n",
      "\n",
      "Epoch 00015: val_loss improved from 0.65067 to 0.64972, saving model to lab5a.h5\n",
      "Epoch 16/100\n",
      " - 1s - loss: 0.6494 - accuracy: 0.6229 - val_loss: 0.6501 - val_accuracy: 0.6194\n",
      "\n",
      "Epoch 00016: val_loss did not improve from 0.64972\n",
      "Epoch 17/100\n",
      " - 1s - loss: 0.6497 - accuracy: 0.6233 - val_loss: 0.6503 - val_accuracy: 0.6207\n",
      "\n",
      "Epoch 00017: val_loss did not improve from 0.64972\n",
      "Epoch 18/100\n",
      " - 1s - loss: 0.6493 - accuracy: 0.6237 - val_loss: 0.6506 - val_accuracy: 0.6196\n",
      "\n",
      "Epoch 00018: val_loss did not improve from 0.64972\n",
      "Epoch 19/100\n",
      " - 1s - loss: 0.6494 - accuracy: 0.6232 - val_loss: 0.6520 - val_accuracy: 0.6205\n",
      "\n",
      "Epoch 00019: val_loss did not improve from 0.64972\n",
      "Epoch 20/100\n",
      " - 1s - loss: 0.6491 - accuracy: 0.6235 - val_loss: 0.6506 - val_accuracy: 0.6214\n",
      "\n",
      "Epoch 00020: val_loss did not improve from 0.64972\n",
      "Epoch 21/100\n",
      " - 1s - loss: 0.6491 - accuracy: 0.6231 - val_loss: 0.6514 - val_accuracy: 0.6208\n",
      "\n",
      "Epoch 00021: val_loss did not improve from 0.64972\n",
      "Epoch 22/100\n",
      " - 1s - loss: 0.6488 - accuracy: 0.6233 - val_loss: 0.6498 - val_accuracy: 0.6197\n",
      "\n",
      "Epoch 00022: val_loss did not improve from 0.64972\n",
      "Epoch 23/100\n",
      " - 1s - loss: 0.6491 - accuracy: 0.6225 - val_loss: 0.6503 - val_accuracy: 0.6204\n",
      "\n",
      "Epoch 00023: val_loss did not improve from 0.64972\n",
      "Epoch 24/100\n",
      " - 1s - loss: 0.6483 - accuracy: 0.6231 - val_loss: 0.6513 - val_accuracy: 0.6221\n",
      "\n",
      "Epoch 00024: val_loss did not improve from 0.64972\n",
      "Epoch 25/100\n",
      " - 1s - loss: 0.6487 - accuracy: 0.6242 - val_loss: 0.6514 - val_accuracy: 0.6205\n",
      "\n",
      "Epoch 00025: val_loss did not improve from 0.64972\n",
      "Epoch 26/100\n",
      " - 1s - loss: 0.6489 - accuracy: 0.6229 - val_loss: 0.6501 - val_accuracy: 0.6208\n",
      "\n",
      "Epoch 00026: val_loss did not improve from 0.64972\n",
      "Epoch 27/100\n",
      " - 1s - loss: 0.6486 - accuracy: 0.6236 - val_loss: 0.6501 - val_accuracy: 0.6199\n",
      "\n",
      "Epoch 00027: val_loss did not improve from 0.64972\n",
      "Epoch 28/100\n",
      " - 1s - loss: 0.6486 - accuracy: 0.6227 - val_loss: 0.6511 - val_accuracy: 0.6206\n",
      "\n",
      "Epoch 00028: val_loss did not improve from 0.64972\n",
      "Epoch 29/100\n",
      " - 1s - loss: 0.6490 - accuracy: 0.6232 - val_loss: 0.6497 - val_accuracy: 0.6205\n",
      "\n",
      "Epoch 00029: val_loss improved from 0.64972 to 0.64971, saving model to lab5a.h5\n",
      "Epoch 30/100\n",
      " - 1s - loss: 0.6485 - accuracy: 0.6242 - val_loss: 0.6519 - val_accuracy: 0.6193\n",
      "\n",
      "Epoch 00030: val_loss did not improve from 0.64971\n",
      "Epoch 31/100\n",
      " - 1s - loss: 0.6487 - accuracy: 0.6249 - val_loss: 0.6499 - val_accuracy: 0.6208\n",
      "\n",
      "Epoch 00031: val_loss did not improve from 0.64971\n",
      "Epoch 32/100\n",
      " - 1s - loss: 0.6482 - accuracy: 0.6239 - val_loss: 0.6504 - val_accuracy: 0.6204\n",
      "\n",
      "Epoch 00032: val_loss did not improve from 0.64971\n",
      "Epoch 33/100\n",
      " - 1s - loss: 0.6484 - accuracy: 0.6246 - val_loss: 0.6517 - val_accuracy: 0.6202\n",
      "\n",
      "Epoch 00033: val_loss did not improve from 0.64971\n",
      "Epoch 34/100\n",
      " - 1s - loss: 0.6486 - accuracy: 0.6234 - val_loss: 0.6498 - val_accuracy: 0.6213\n",
      "\n",
      "Epoch 00034: val_loss did not improve from 0.64971\n",
      "Epoch 35/100\n",
      " - 1s - loss: 0.6485 - accuracy: 0.6235 - val_loss: 0.6508 - val_accuracy: 0.6195\n",
      "\n",
      "Epoch 00035: val_loss did not improve from 0.64971\n",
      "Epoch 36/100\n",
      " - 1s - loss: 0.6478 - accuracy: 0.6233 - val_loss: 0.6503 - val_accuracy: 0.6210\n",
      "\n",
      "Epoch 00036: val_loss did not improve from 0.64971\n",
      "Epoch 37/100\n",
      " - 1s - loss: 0.6483 - accuracy: 0.6235 - val_loss: 0.6507 - val_accuracy: 0.6210\n",
      "\n",
      "Epoch 00037: val_loss did not improve from 0.64971\n",
      "Epoch 38/100\n",
      " - 1s - loss: 0.6481 - accuracy: 0.6247 - val_loss: 0.6489 - val_accuracy: 0.6208\n",
      "\n",
      "Epoch 00038: val_loss improved from 0.64971 to 0.64890, saving model to lab5a.h5\n",
      "Epoch 39/100\n",
      " - 1s - loss: 0.6483 - accuracy: 0.6243 - val_loss: 0.6490 - val_accuracy: 0.6208\n",
      "\n",
      "Epoch 00039: val_loss did not improve from 0.64890\n",
      "Epoch 40/100\n",
      " - 1s - loss: 0.6483 - accuracy: 0.6245 - val_loss: 0.6505 - val_accuracy: 0.6203\n",
      "\n",
      "Epoch 00040: val_loss did not improve from 0.64890\n",
      "Epoch 41/100\n",
      " - 1s - loss: 0.6481 - accuracy: 0.6254 - val_loss: 0.6497 - val_accuracy: 0.6210\n",
      "\n",
      "Epoch 00041: val_loss did not improve from 0.64890\n",
      "Epoch 42/100\n",
      " - 1s - loss: 0.6484 - accuracy: 0.6244 - val_loss: 0.6511 - val_accuracy: 0.6206\n",
      "\n",
      "Epoch 00042: val_loss did not improve from 0.64890\n",
      "Epoch 43/100\n",
      " - 1s - loss: 0.6480 - accuracy: 0.6249 - val_loss: 0.6503 - val_accuracy: 0.6210\n",
      "\n",
      "Epoch 00043: val_loss did not improve from 0.64890\n",
      "Epoch 44/100\n",
      " - 1s - loss: 0.6477 - accuracy: 0.6253 - val_loss: 0.6498 - val_accuracy: 0.6199\n",
      "\n",
      "Epoch 00044: val_loss did not improve from 0.64890\n",
      "Epoch 45/100\n",
      " - 1s - loss: 0.6477 - accuracy: 0.6244 - val_loss: 0.6503 - val_accuracy: 0.6204\n",
      "\n",
      "Epoch 00045: val_loss did not improve from 0.64890\n",
      "Epoch 46/100\n",
      " - 2s - loss: 0.6475 - accuracy: 0.6245 - val_loss: 0.6515 - val_accuracy: 0.6204\n",
      "\n",
      "Epoch 00046: val_loss did not improve from 0.64890\n",
      "Epoch 47/100\n",
      " - 1s - loss: 0.6476 - accuracy: 0.6250 - val_loss: 0.6502 - val_accuracy: 0.6203\n",
      "\n",
      "Epoch 00047: val_loss did not improve from 0.64890\n",
      "Epoch 48/100\n",
      " - 1s - loss: 0.6486 - accuracy: 0.6237 - val_loss: 0.6513 - val_accuracy: 0.6190\n",
      "\n",
      "Epoch 00048: val_loss did not improve from 0.64890\n",
      "Epoch 49/100\n",
      " - 1s - loss: 0.6476 - accuracy: 0.6245 - val_loss: 0.6497 - val_accuracy: 0.6189\n",
      "\n",
      "Epoch 00049: val_loss did not improve from 0.64890\n",
      "Epoch 50/100\n",
      " - 1s - loss: 0.6478 - accuracy: 0.6253 - val_loss: 0.6514 - val_accuracy: 0.6205\n",
      "\n",
      "Epoch 00050: val_loss did not improve from 0.64890\n",
      "Epoch 51/100\n",
      " - 1s - loss: 0.6477 - accuracy: 0.6244 - val_loss: 0.6516 - val_accuracy: 0.6201\n",
      "\n",
      "Epoch 00051: val_loss did not improve from 0.64890\n",
      "Epoch 52/100\n",
      " - 1s - loss: 0.6482 - accuracy: 0.6244 - val_loss: 0.6506 - val_accuracy: 0.6207\n",
      "\n",
      "Epoch 00052: val_loss did not improve from 0.64890\n",
      "Epoch 53/100\n",
      " - 1s - loss: 0.6476 - accuracy: 0.6247 - val_loss: 0.6498 - val_accuracy: 0.6200\n",
      "\n",
      "Epoch 00053: val_loss did not improve from 0.64890\n",
      "Epoch 54/100\n",
      " - 1s - loss: 0.6480 - accuracy: 0.6248 - val_loss: 0.6507 - val_accuracy: 0.6201\n",
      "\n",
      "Epoch 00054: val_loss did not improve from 0.64890\n",
      "Epoch 55/100\n"
     ]
    },
    {
     "name": "stdout",
     "output_type": "stream",
     "text": [
      " - 1s - loss: 0.6476 - accuracy: 0.6252 - val_loss: 0.6522 - val_accuracy: 0.6189\n",
      "\n",
      "Epoch 00055: val_loss did not improve from 0.64890\n",
      "Epoch 56/100\n",
      " - 1s - loss: 0.6476 - accuracy: 0.6250 - val_loss: 0.6500 - val_accuracy: 0.6211\n",
      "\n",
      "Epoch 00056: val_loss did not improve from 0.64890\n",
      "Epoch 57/100\n",
      " - 1s - loss: 0.6474 - accuracy: 0.6255 - val_loss: 0.6508 - val_accuracy: 0.6205\n",
      "\n",
      "Epoch 00057: val_loss did not improve from 0.64890\n",
      "Epoch 58/100\n",
      " - 1s - loss: 0.6475 - accuracy: 0.6251 - val_loss: 0.6497 - val_accuracy: 0.6214\n",
      "\n",
      "Epoch 00058: val_loss did not improve from 0.64890\n",
      "Restoring model weights from the end of the best epoch\n",
      "Epoch 00058: early stopping\n"
     ]
    },
    {
     "data": {
      "text/plain": [
       "<keras.callbacks.callbacks.History at 0x20ab5f38cc8>"
      ]
     },
     "execution_count": 14,
     "metadata": {},
     "output_type": "execute_result"
    }
   ],
   "source": [
    "model.fit(X_train,y_train,batch_size=500,epochs=100,verbose=2,validation_split=0.2,\n",
    "          validation_data=(X_test,y_test),callbacks=[cb,es])"
   ]
  },
  {
   "cell_type": "code",
   "execution_count": 15,
   "metadata": {},
   "outputs": [
    {
     "name": "stdout",
     "output_type": "stream",
     "text": [
      "101766/101766 [==============================] - 4s 35us/step\n"
     ]
    }
   ],
   "source": [
    "scores = model.evaluate(X,y)"
   ]
  },
  {
   "cell_type": "code",
   "execution_count": 16,
   "metadata": {},
   "outputs": [
    {
     "data": {
      "text/plain": [
       "[0.6462463303430227, 0.6254348158836365]"
      ]
     },
     "execution_count": 16,
     "metadata": {},
     "output_type": "execute_result"
    }
   ],
   "source": [
    "scores  #62.54% accuracy"
   ]
  },
  {
   "cell_type": "code",
   "execution_count": 17,
   "metadata": {},
   "outputs": [],
   "source": [
    "y_pred = model.predict(X_test)"
   ]
  },
  {
   "cell_type": "code",
   "execution_count": 18,
   "metadata": {},
   "outputs": [
    {
     "data": {
      "text/plain": [
       "array([[0.5858819 ],\n",
       "       [0.33099866],\n",
       "       [0.6874957 ],\n",
       "       ...,\n",
       "       [0.43394154],\n",
       "       [0.32295805],\n",
       "       [0.48286757]], dtype=float32)"
      ]
     },
     "execution_count": 18,
     "metadata": {},
     "output_type": "execute_result"
    }
   ],
   "source": [
    "y_pred"
   ]
  },
  {
   "cell_type": "code",
   "execution_count": 19,
   "metadata": {},
   "outputs": [],
   "source": [
    "y_pred = model.predict_classes(X_test)"
   ]
  },
  {
   "cell_type": "code",
   "execution_count": 20,
   "metadata": {},
   "outputs": [
    {
     "data": {
      "text/plain": [
       "array([[1],\n",
       "       [0],\n",
       "       [1],\n",
       "       ...,\n",
       "       [0],\n",
       "       [0],\n",
       "       [0]])"
      ]
     },
     "execution_count": 20,
     "metadata": {},
     "output_type": "execute_result"
    }
   ],
   "source": [
    "y_pred"
   ]
  },
  {
   "cell_type": "code",
   "execution_count": 23,
   "metadata": {},
   "outputs": [
    {
     "name": "stdout",
     "output_type": "stream",
     "text": [
      "              precision    recall  f1-score   support\n",
      "\n",
      "           0       0.62      0.76      0.68     10993\n",
      "           1       0.62      0.46      0.53      9361\n",
      "\n",
      "    accuracy                           0.62     20354\n",
      "   macro avg       0.62      0.61      0.61     20354\n",
      "weighted avg       0.62      0.62      0.61     20354\n",
      "\n"
     ]
    }
   ],
   "source": [
    "print(classification_report(y_test,y_pred))"
   ]
  },
  {
   "cell_type": "code",
   "execution_count": null,
   "metadata": {},
   "outputs": [],
   "source": []
  }
 ],
 "metadata": {
  "kernelspec": {
   "display_name": "Python 3",
   "language": "python",
   "name": "python3"
  },
  "language_info": {
   "codemirror_mode": {
    "name": "ipython",
    "version": 3
   },
   "file_extension": ".py",
   "mimetype": "text/x-python",
   "name": "python",
   "nbconvert_exporter": "python",
   "pygments_lexer": "ipython3",
   "version": "3.7.6"
  }
 },
 "nbformat": 4,
 "nbformat_minor": 4
}
